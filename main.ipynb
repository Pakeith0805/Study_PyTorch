{
  "nbformat": 4,
  "nbformat_minor": 0,
  "metadata": {
    "colab": {
      "provenance": [],
      "authorship_tag": "ABX9TyMWa3OOWknizHPKtdwr3DJW",
      "include_colab_link": true
    },
    "kernelspec": {
      "name": "python3",
      "display_name": "Python 3"
    },
    "language_info": {
      "name": "python"
    }
  },
  "cells": [
    {
      "cell_type": "markdown",
      "metadata": {
        "id": "view-in-github",
        "colab_type": "text"
      },
      "source": [
        "<a href=\"https://colab.research.google.com/github/Pakeith0805/Study_PyTorch/blob/main/main.ipynb\" target=\"_parent\"><img src=\"https://colab.research.google.com/assets/colab-badge.svg\" alt=\"Open In Colab\"/></a>"
      ]
    },
    {
      "cell_type": "markdown",
      "source": [
        "# 簡単な使い方"
      ],
      "metadata": {
        "id": "g1tY1F6WxlWG"
      }
    },
    {
      "cell_type": "markdown",
      "source": [
        "機械学習・深層学習のデータは深層学習データであるため、Tensorを利用する。\n",
        "\n",
        "- 0次元のTensor：スカラー\n",
        "- 1次元のTensor：ベクトル\n",
        "- 2次元のTensor：行列"
      ],
      "metadata": {
        "id": "MjHAOt5fxqRY"
      }
    },
    {
      "cell_type": "code",
      "execution_count": null,
      "metadata": {
        "id": "mMYGQlY2aF30"
      },
      "outputs": [],
      "source": [
        "# import\n",
        "import torch\n",
        "import numpy as np\n",
        "import matplotlib.pyplot as plt\n",
        "%matplotlib inline"
      ]
    },
    {
      "cell_type": "markdown",
      "source": [
        "## Tensorの使い方"
      ],
      "metadata": {
        "id": "wTiB-BBk0WTo"
      }
    },
    {
      "cell_type": "code",
      "source": [
        "# tensorを作る\n",
        "arr_t = torch.tensor([10])\n",
        "# 型を表示\n",
        "print(\"型を表示：\", arr_t.dtype)\n",
        "# 浮動小数型でTensorを作る\n",
        "arr_t = torch.FloatTensor([10])\n",
        "print(\"型を表示：\", arr_t.dtype)"
      ],
      "metadata": {
        "id": "KBC-GQKxyEZV",
        "outputId": "e3dfa83b-ca37-4416-a366-3d3de0bbe8f6",
        "colab": {
          "base_uri": "https://localhost:8080/"
        }
      },
      "execution_count": null,
      "outputs": [
        {
          "output_type": "stream",
          "name": "stdout",
          "text": [
            "型を表示： torch.int64\n",
            "型を表示： torch.float32\n"
          ]
        }
      ]
    },
    {
      "cell_type": "code",
      "source": [
        "# numpyをtensor型に\n",
        "arr_n = np.arange(10)\n",
        "arr_t = torch.from_numpy(arr_n)\n",
        "print(\"型を表示：\", arr_t.dtype)"
      ],
      "metadata": {
        "id": "QPML8GFgyImS",
        "outputId": "b3f3d8c8-cf72-41ba-e72e-7ffaa23e23b1",
        "colab": {
          "base_uri": "https://localhost:8080/"
        }
      },
      "execution_count": null,
      "outputs": [
        {
          "output_type": "stream",
          "name": "stdout",
          "text": [
            "型を表示： torch.int64\n"
          ]
        }
      ]
    },
    {
      "cell_type": "code",
      "source": [
        "# 平均を求めるときは型に注意！\n",
        "torch.mean(arr_t)"
      ],
      "metadata": {
        "collapsed": true,
        "id": "1EQNdz94yv-z",
        "outputId": "e0553555-7dcf-41e4-8f63-e63e843f2cf9",
        "colab": {
          "base_uri": "https://localhost:8080/",
          "height": 181
        }
      },
      "execution_count": null,
      "outputs": [
        {
          "output_type": "error",
          "ename": "RuntimeError",
          "evalue": "mean(): could not infer output dtype. Input dtype must be either a floating point or complex dtype. Got: Long",
          "traceback": [
            "\u001b[0;31m---------------------------------------------------------------------------\u001b[0m",
            "\u001b[0;31mRuntimeError\u001b[0m                              Traceback (most recent call last)",
            "\u001b[0;32m<ipython-input-55-ba5e369c5060>\u001b[0m in \u001b[0;36m<cell line: 0>\u001b[0;34m()\u001b[0m\n\u001b[1;32m      1\u001b[0m \u001b[0;31m# 型に注意！\u001b[0m\u001b[0;34m\u001b[0m\u001b[0;34m\u001b[0m\u001b[0m\n\u001b[0;32m----> 2\u001b[0;31m \u001b[0mtorch\u001b[0m\u001b[0;34m.\u001b[0m\u001b[0mmean\u001b[0m\u001b[0;34m(\u001b[0m\u001b[0marr_t\u001b[0m\u001b[0;34m)\u001b[0m\u001b[0;34m\u001b[0m\u001b[0;34m\u001b[0m\u001b[0m\n\u001b[0m",
            "\u001b[0;31mRuntimeError\u001b[0m: mean(): could not infer output dtype. Input dtype must be either a floating point or complex dtype. Got: Long"
          ]
        }
      ]
    },
    {
      "cell_type": "code",
      "source": [
        "# 浮動小数型で作ろう。\n",
        "torch.mean(arr_t.float())"
      ],
      "metadata": {
        "id": "Tgvby17Hy4s6",
        "outputId": "92daf768-54f6-4ac8-e3b4-5fc4cc8c6c84",
        "colab": {
          "base_uri": "https://localhost:8080/"
        }
      },
      "execution_count": null,
      "outputs": [
        {
          "output_type": "execute_result",
          "data": {
            "text/plain": [
              "tensor(4.5000)"
            ]
          },
          "metadata": {},
          "execution_count": 56
        }
      ]
    },
    {
      "cell_type": "code",
      "source": [
        "# 大きい配列を作る\n",
        "arr_t2 = torch.ones([10, 20], dtype=torch.float32)\n",
        "print(arr_t2)"
      ],
      "metadata": {
        "collapsed": true,
        "id": "DrXXkLPVy_1n",
        "outputId": "6a079eed-9c11-411c-d690-e4b860e33457",
        "colab": {
          "base_uri": "https://localhost:8080/"
        }
      },
      "execution_count": null,
      "outputs": [
        {
          "output_type": "stream",
          "name": "stdout",
          "text": [
            "tensor([[1., 1., 1., 1., 1., 1., 1., 1., 1., 1., 1., 1., 1., 1., 1., 1., 1., 1.,\n",
            "         1., 1.],\n",
            "        [1., 1., 1., 1., 1., 1., 1., 1., 1., 1., 1., 1., 1., 1., 1., 1., 1., 1.,\n",
            "         1., 1.],\n",
            "        [1., 1., 1., 1., 1., 1., 1., 1., 1., 1., 1., 1., 1., 1., 1., 1., 1., 1.,\n",
            "         1., 1.],\n",
            "        [1., 1., 1., 1., 1., 1., 1., 1., 1., 1., 1., 1., 1., 1., 1., 1., 1., 1.,\n",
            "         1., 1.],\n",
            "        [1., 1., 1., 1., 1., 1., 1., 1., 1., 1., 1., 1., 1., 1., 1., 1., 1., 1.,\n",
            "         1., 1.],\n",
            "        [1., 1., 1., 1., 1., 1., 1., 1., 1., 1., 1., 1., 1., 1., 1., 1., 1., 1.,\n",
            "         1., 1.],\n",
            "        [1., 1., 1., 1., 1., 1., 1., 1., 1., 1., 1., 1., 1., 1., 1., 1., 1., 1.,\n",
            "         1., 1.],\n",
            "        [1., 1., 1., 1., 1., 1., 1., 1., 1., 1., 1., 1., 1., 1., 1., 1., 1., 1.,\n",
            "         1., 1.],\n",
            "        [1., 1., 1., 1., 1., 1., 1., 1., 1., 1., 1., 1., 1., 1., 1., 1., 1., 1.,\n",
            "         1., 1.],\n",
            "        [1., 1., 1., 1., 1., 1., 1., 1., 1., 1., 1., 1., 1., 1., 1., 1., 1., 1.,\n",
            "         1., 1.]])\n"
          ]
        }
      ]
    },
    {
      "cell_type": "code",
      "source": [
        "# ベクトル計算もできる。全要素に1を足す。\n",
        "arr_t2 + 1"
      ],
      "metadata": {
        "collapsed": true,
        "id": "7WuW1xkbzUHJ",
        "outputId": "893113e2-3f1a-4e3c-a1ab-a24ab053d0ba",
        "colab": {
          "base_uri": "https://localhost:8080/"
        }
      },
      "execution_count": null,
      "outputs": [
        {
          "output_type": "execute_result",
          "data": {
            "text/plain": [
              "tensor([[2., 2., 2., 2., 2., 2., 2., 2., 2., 2., 2., 2., 2., 2., 2., 2., 2., 2.,\n",
              "         2., 2.],\n",
              "        [2., 2., 2., 2., 2., 2., 2., 2., 2., 2., 2., 2., 2., 2., 2., 2., 2., 2.,\n",
              "         2., 2.],\n",
              "        [2., 2., 2., 2., 2., 2., 2., 2., 2., 2., 2., 2., 2., 2., 2., 2., 2., 2.,\n",
              "         2., 2.],\n",
              "        [2., 2., 2., 2., 2., 2., 2., 2., 2., 2., 2., 2., 2., 2., 2., 2., 2., 2.,\n",
              "         2., 2.],\n",
              "        [2., 2., 2., 2., 2., 2., 2., 2., 2., 2., 2., 2., 2., 2., 2., 2., 2., 2.,\n",
              "         2., 2.],\n",
              "        [2., 2., 2., 2., 2., 2., 2., 2., 2., 2., 2., 2., 2., 2., 2., 2., 2., 2.,\n",
              "         2., 2.],\n",
              "        [2., 2., 2., 2., 2., 2., 2., 2., 2., 2., 2., 2., 2., 2., 2., 2., 2., 2.,\n",
              "         2., 2.],\n",
              "        [2., 2., 2., 2., 2., 2., 2., 2., 2., 2., 2., 2., 2., 2., 2., 2., 2., 2.,\n",
              "         2., 2.],\n",
              "        [2., 2., 2., 2., 2., 2., 2., 2., 2., 2., 2., 2., 2., 2., 2., 2., 2., 2.,\n",
              "         2., 2.],\n",
              "        [2., 2., 2., 2., 2., 2., 2., 2., 2., 2., 2., 2., 2., 2., 2., 2., 2., 2.,\n",
              "         2., 2.]])"
            ]
          },
          "metadata": {},
          "execution_count": 60
        }
      ]
    },
    {
      "cell_type": "code",
      "source": [
        "# numpyに変える。\n",
        "arr = arr_t2.numpy()\n",
        "print(arr)"
      ],
      "metadata": {
        "collapsed": true,
        "id": "Vl6yjolSzgAr",
        "outputId": "a88a3a74-e5c6-4221-8fa9-d0f66bffe765",
        "colab": {
          "base_uri": "https://localhost:8080/"
        }
      },
      "execution_count": null,
      "outputs": [
        {
          "output_type": "stream",
          "name": "stdout",
          "text": [
            "[[1. 1. 1. 1. 1. 1. 1. 1. 1. 1. 1. 1. 1. 1. 1. 1. 1. 1. 1. 1.]\n",
            " [1. 1. 1. 1. 1. 1. 1. 1. 1. 1. 1. 1. 1. 1. 1. 1. 1. 1. 1. 1.]\n",
            " [1. 1. 1. 1. 1. 1. 1. 1. 1. 1. 1. 1. 1. 1. 1. 1. 1. 1. 1. 1.]\n",
            " [1. 1. 1. 1. 1. 1. 1. 1. 1. 1. 1. 1. 1. 1. 1. 1. 1. 1. 1. 1.]\n",
            " [1. 1. 1. 1. 1. 1. 1. 1. 1. 1. 1. 1. 1. 1. 1. 1. 1. 1. 1. 1.]\n",
            " [1. 1. 1. 1. 1. 1. 1. 1. 1. 1. 1. 1. 1. 1. 1. 1. 1. 1. 1. 1.]\n",
            " [1. 1. 1. 1. 1. 1. 1. 1. 1. 1. 1. 1. 1. 1. 1. 1. 1. 1. 1. 1.]\n",
            " [1. 1. 1. 1. 1. 1. 1. 1. 1. 1. 1. 1. 1. 1. 1. 1. 1. 1. 1. 1.]\n",
            " [1. 1. 1. 1. 1. 1. 1. 1. 1. 1. 1. 1. 1. 1. 1. 1. 1. 1. 1. 1.]\n",
            " [1. 1. 1. 1. 1. 1. 1. 1. 1. 1. 1. 1. 1. 1. 1. 1. 1. 1. 1. 1.]]\n"
          ]
        }
      ]
    },
    {
      "cell_type": "code",
      "source": [
        "# graphを作る。\n",
        "x = torch.linspace(0, 10, 100) # 0から10までを100個に分ける。\n",
        "y = x ** 2\n",
        "plt.plot(x, y)"
      ],
      "metadata": {
        "collapsed": true,
        "id": "fasoNUX_zpJb",
        "outputId": "546dd367-8074-452c-e6b2-98d72e02451a",
        "colab": {
          "base_uri": "https://localhost:8080/",
          "height": 448
        }
      },
      "execution_count": null,
      "outputs": [
        {
          "output_type": "execute_result",
          "data": {
            "text/plain": [
              "[<matplotlib.lines.Line2D at 0x7cd9e14d2390>]"
            ]
          },
          "metadata": {},
          "execution_count": 63
        },
        {
          "output_type": "display_data",
          "data": {
            "text/plain": [
              "<Figure size 640x480 with 1 Axes>"
            ],
            "image/png": "[encoded data removed]"
          },
          "metadata": {}
        }
      ]
    },
    {
      "cell_type": "code",
      "source": [
        "# 配列の整形にはviewを使う\n",
        "arr_t3 = torch.zeros([10])\n",
        "print(arr_t3)\n",
        "print(arr_t3.view(5, 2)) # 5×2に整形\n",
        "print(arr_t3.view(-1, 2)) # 片方-1にすると、自動的に調節してくれる。\n",
        "arr_t4 = arr_t3.view(5, 2)"
      ],
      "metadata": {
        "id": "UsngsdK1z2cJ",
        "outputId": "4f209a39-7e2a-41d8-c6ce-4d7df8626107",
        "colab": {
          "base_uri": "https://localhost:8080/"
        }
      },
      "execution_count": null,
      "outputs": [
        {
          "output_type": "stream",
          "name": "stdout",
          "text": [
            "tensor([0., 0., 0., 0., 0., 0., 0., 0., 0., 0.])\n",
            "tensor([[0., 0.],\n",
            "        [0., 0.],\n",
            "        [0., 0.],\n",
            "        [0., 0.],\n",
            "        [0., 0.]])\n",
            "tensor([[0., 0.],\n",
            "        [0., 0.],\n",
            "        [0., 0.],\n",
            "        [0., 0.],\n",
            "        [0., 0.]])\n"
          ]
        }
      ]
    },
    {
      "cell_type": "code",
      "source": [
        "# 配列の形状の確認にはsizeを使う\n",
        "arr_t4.size()"
      ],
      "metadata": {
        "id": "KAI-QtjJ0lvz",
        "outputId": "84b8dfd2-bba1-494a-d70a-a63fc90c11f1",
        "colab": {
          "base_uri": "https://localhost:8080/"
        }
      },
      "execution_count": null,
      "outputs": [
        {
          "output_type": "execute_result",
          "data": {
            "text/plain": [
              "torch.Size([5, 2])"
            ]
          },
          "metadata": {},
          "execution_count": 74
        }
      ]
    },
    {
      "cell_type": "code",
      "source": [
        "# 配列のスライス\n",
        "arr_t4[1:3]"
      ],
      "metadata": {
        "id": "0G2IpiH71H5e",
        "outputId": "96de3319-3649-4c7e-a1eb-a5c7cefd4fc2",
        "colab": {
          "base_uri": "https://localhost:8080/"
        }
      },
      "execution_count": null,
      "outputs": [
        {
          "output_type": "execute_result",
          "data": {
            "text/plain": [
              "tensor([[0., 0.],\n",
              "        [0., 0.]])"
            ]
          },
          "metadata": {},
          "execution_count": 76
        }
      ]
    },
    {
      "cell_type": "markdown",
      "source": [
        "## 自動微分"
      ],
      "metadata": {
        "id": "tvgLSmQKgFC2"
      }
    },
    {
      "cell_type": "code",
      "source": [
        "# 自動微分\n",
        "x = torch.tensor([2], dtype=torch.float32, requires_grad=True) # requires_gradは勾配計算をするかどうか。\n",
        "y = 3 * x ** 3\n",
        "y.backward() # 誤差逆伝播\n",
        "print(x.grad) #微分結果を出力"
      ],
      "metadata": {
        "id": "aG1Iwd9jgRAO",
        "outputId": "b7d7375d-279b-4ab5-8bea-9f7f7a1bc196",
        "colab": {
          "base_uri": "https://localhost:8080/"
        }
      },
      "execution_count": null,
      "outputs": [
        {
          "output_type": "stream",
          "name": "stdout",
          "text": [
            "tensor([36.])\n"
          ]
        }
      ]
    },
    {
      "cell_type": "code",
      "source": [
        "# 複数変数でも可能\n",
        "x1 = torch.tensor([4], dtype=torch.float32, requires_grad=True)\n",
        "x2 = torch.tensor([2], dtype=torch.float32, requires_grad=True)\n",
        "y = 2 * x1 ** 2 + 3 * x2 ** 3\n",
        "y.backward()\n",
        "print(x1.grad)\n",
        "print(x2.grad)"
      ],
      "metadata": {
        "id": "KGRIOXrvgo_r",
        "outputId": "c5b0e745-7446-447a-f68b-411257a50f37",
        "colab": {
          "base_uri": "https://localhost:8080/"
        }
      },
      "execution_count": null,
      "outputs": [
        {
          "output_type": "stream",
          "name": "stdout",
          "text": [
            "tensor([16.])\n",
            "tensor([36.])\n"
          ]
        }
      ]
    },
    {
      "cell_type": "markdown",
      "source": [
        "# PyTorchによる機械学習"
      ],
      "metadata": {
        "id": "J-_bRn8hhyRm"
      }
    },
    {
      "cell_type": "markdown",
      "source": [
        "1. 入力データ・教師データを用意\n",
        "2. モデルを作成\n",
        "3. 予測値計算(順伝播)、損失関数、勾配計算\n",
        "4. 重みを更新\n",
        "\n",
        "今回は、MNISTと呼ばれる0～9の手書きの数字のデータセットを用いる。"
      ],
      "metadata": {
        "id": "g9Ufe6Qekb3X"
      }
    },
    {
      "cell_type": "code",
      "source": [
        "from ast import increment_lineno\n",
        "import torch\n",
        "import torch.nn as nn\n",
        "import torch.optim as optim\n",
        "import matplotlib.pyplot as plt\n",
        "import numpy as np\n",
        "%matplotlib inline\n",
        "plt.style.use(\"ggplot\")"
      ],
      "metadata": {
        "id": "VNaIxjJxoVY7"
      },
      "execution_count": 18,
      "outputs": []
    },
    {
      "cell_type": "code",
      "source": [
        "# 生成される乱数の値を固定\n",
        "torch.manual_seed(123)"
      ],
      "metadata": {
        "id": "4tqgCKZcoyeI",
        "outputId": "1c9eb7e1-86aa-4e63-e499-14ff362794bf",
        "colab": {
          "base_uri": "https://localhost:8080/"
        }
      },
      "execution_count": 19,
      "outputs": [
        {
          "output_type": "execute_result",
          "data": {
            "text/plain": [
              "<torch._C.Generator at 0x7ec910e9cdb0>"
            ]
          },
          "metadata": {},
          "execution_count": 19
        }
      ]
    },
    {
      "cell_type": "code",
      "source": [
        "# いくつかの数を定義\n",
        "a = 3\n",
        "b = 2\n",
        "x = torch.linspace(0, 5, 100).view(100, 1) # 100はバッチの次元、1は入力データの次元\n",
        "eps = torch.randn(100, 1) # 乱数\n",
        "y = a * x + b + eps"
      ],
      "metadata": {
        "id": "SwT0ddUEo1Ob"
      },
      "execution_count": 20,
      "outputs": []
    },
    {
      "cell_type": "code",
      "source": [
        "# グラフを描く\n",
        "plt.scatter(x, y)"
      ],
      "metadata": {
        "collapsed": true,
        "id": "E3-MskGsqTP4",
        "outputId": "01c8b6a1-ba53-4720-b0c0-3de003defc4c",
        "colab": {
          "base_uri": "https://localhost:8080/",
          "height": 448
        }
      },
      "execution_count": null,
      "outputs": [
        {
          "output_type": "execute_result",
          "data": {
            "text/plain": [
              "<matplotlib.collections.PathCollection at 0x7ec833296010>"
            ]
          },
          "metadata": {},
          "execution_count": 17
        },
        {
          "output_type": "display_data",
          "data": {
            "text/plain": [
              "<Figure size 640x480 with 1 Axes>"
            ],
            "image/png": "[encoded data removed]"
          },
          "metadata": {}
        }
      ]
    },
    {
      "cell_type": "code",
      "source": [
        "# 線形回帰のクラスを作成\n",
        "class LR(nn.Module):\n",
        "    def __init__(self):\n",
        "        super().__init__()\n",
        "        self.linear = nn.Linear(in_features=1, out_features=1)\n",
        "    def forward(self, x):\n",
        "        output = self.linear(x)\n",
        "        return output"
      ],
      "metadata": {
        "id": "oZca8wi-qWjH"
      },
      "execution_count": 21,
      "outputs": []
    },
    {
      "cell_type": "code",
      "source": [
        "model = LR()"
      ],
      "metadata": {
        "id": "nYhNJyzLrNZu"
      },
      "execution_count": 22,
      "outputs": []
    },
    {
      "cell_type": "code",
      "source": [
        "x_test = torch.tensor([[1.0], [2.0]])"
      ],
      "metadata": {
        "id": "g8L2gf5ErOp0"
      },
      "execution_count": 24,
      "outputs": []
    },
    {
      "cell_type": "code",
      "source": [
        "model(x_test)"
      ],
      "metadata": {
        "id": "lqmVPuh-rTDP",
        "outputId": "cec2fd68-4e7c-43be-870b-bfc8cb7aae25",
        "colab": {
          "base_uri": "https://localhost:8080/"
        }
      },
      "execution_count": 25,
      "outputs": [
        {
          "output_type": "execute_result",
          "data": {
            "text/plain": [
              "tensor([[-0.6505],\n",
              "        [-1.4166]], grad_fn=<AddmmBackward0>)"
            ]
          },
          "metadata": {},
          "execution_count": 25
        }
      ]
    },
    {
      "cell_type": "code",
      "source": [],
      "metadata": {
        "id": "cpg8styyrY03"
      },
      "execution_count": null,
      "outputs": []
    }
  ]
}