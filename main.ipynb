{
  "nbformat": 4,
  "nbformat_minor": 0,
  "metadata": {
    "colab": {
      "provenance": [],
      "gpuType": "T4",
      "machine_shape": "hm",
      "authorship_tag": "ABX9TyPHH1kLlx+V0xLV5bjYAP+D",
      "include_colab_link": true
    },
    "kernelspec": {
      "name": "python3",
      "display_name": "Python 3"
    },
    "language_info": {
      "name": "python"
    },
    "accelerator": "GPU"
  },
  "cells": [
    {
      "cell_type": "markdown",
      "metadata": {
        "id": "view-in-github",
        "colab_type": "text"
      },
      "source": [
        "<a href=\"https://colab.research.google.com/github/Pakeith0805/Study_PyTorch/blob/main/main.ipynb\" target=\"_parent\"><img src=\"https://colab.research.google.com/assets/colab-badge.svg\" alt=\"Open In Colab\"/></a>"
      ]
    },
    {
      "cell_type": "markdown",
      "source": [
        "# 簡単な使い方"
      ],
      "metadata": {
        "id": "g1tY1F6WxlWG"
      }
    },
    {
      "cell_type": "markdown",
      "source": [
        "機械学習・深層学習のデータは深層学習データであるため、Tensorを利用する。\n",
        "\n",
        "- 0次元のTensor：スカラー\n",
        "- 1次元のTensor：ベクトル\n",
        "- 2次元のTensor：行列"
      ],
      "metadata": {
        "id": "MjHAOt5fxqRY"
      }
    },
    {
      "cell_type": "code",
      "execution_count": null,
      "metadata": {
        "id": "mMYGQlY2aF30"
      },
      "outputs": [],
      "source": [
        "# import\n",
        "import torch\n",
        "import numpy as np\n",
        "import matplotlib.pyplot as plt\n",
        "%matplotlib inline"
      ]
    },
    {
      "cell_type": "markdown",
      "source": [
        "## Tensorの使い方"
      ],
      "metadata": {
        "id": "wTiB-BBk0WTo"
      }
    },
    {
      "cell_type": "code",
      "source": [
        "# tensorを作る\n",
        "arr_t = torch.tensor([10])\n",
        "# 型を表示\n",
        "print(\"型を表示：\", arr_t.dtype)\n",
        "# 浮動小数型でTensorを作る\n",
        "arr_t = torch.FloatTensor([10])\n",
        "print(\"型を表示：\", arr_t.dtype)"
      ],
      "metadata": {
        "id": "KBC-GQKxyEZV",
        "outputId": "e3dfa83b-ca37-4416-a366-3d3de0bbe8f6",
        "colab": {
          "base_uri": "https://localhost:8080/"
        }
      },
      "execution_count": null,
      "outputs": [
        {
          "output_type": "stream",
          "name": "stdout",
          "text": [
            "型を表示： torch.int64\n",
            "型を表示： torch.float32\n"
          ]
        }
      ]
    },
    {
      "cell_type": "code",
      "source": [
        "# numpyをtensor型に\n",
        "arr_n = np.arange(10)\n",
        "arr_t = torch.from_numpy(arr_n)\n",
        "print(\"型を表示：\", arr_t.dtype)"
      ],
      "metadata": {
        "id": "QPML8GFgyImS",
        "outputId": "b3f3d8c8-cf72-41ba-e72e-7ffaa23e23b1",
        "colab": {
          "base_uri": "https://localhost:8080/"
        }
      },
      "execution_count": null,
      "outputs": [
        {
          "output_type": "stream",
          "name": "stdout",
          "text": [
            "型を表示： torch.int64\n"
          ]
        }
      ]
    },
    {
      "cell_type": "code",
      "source": [
        "# 平均を求めるときは型に注意！\n",
        "torch.mean(arr_t)"
      ],
      "metadata": {
        "collapsed": true,
        "id": "1EQNdz94yv-z",
        "outputId": "e0553555-7dcf-41e4-8f63-e63e843f2cf9",
        "colab": {
          "base_uri": "https://localhost:8080/",
          "height": 181
        }
      },
      "execution_count": null,
      "outputs": [
        {
          "output_type": "error",
          "ename": "RuntimeError",
          "evalue": "mean(): could not infer output dtype. Input dtype must be either a floating point or complex dtype. Got: Long",
          "traceback": [
            "\u001b[0;31m---------------------------------------------------------------------------\u001b[0m",
            "\u001b[0;31mRuntimeError\u001b[0m                              Traceback (most recent call last)",
            "\u001b[0;32m<ipython-input-55-ba5e369c5060>\u001b[0m in \u001b[0;36m<cell line: 0>\u001b[0;34m()\u001b[0m\n\u001b[1;32m      1\u001b[0m \u001b[0;31m# 型に注意！\u001b[0m\u001b[0;34m\u001b[0m\u001b[0;34m\u001b[0m\u001b[0m\n\u001b[0;32m----> 2\u001b[0;31m \u001b[0mtorch\u001b[0m\u001b[0;34m.\u001b[0m\u001b[0mmean\u001b[0m\u001b[0;34m(\u001b[0m\u001b[0marr_t\u001b[0m\u001b[0;34m)\u001b[0m\u001b[0;34m\u001b[0m\u001b[0;34m\u001b[0m\u001b[0m\n\u001b[0m",
            "\u001b[0;31mRuntimeError\u001b[0m: mean(): could not infer output dtype. Input dtype must be either a floating point or complex dtype. Got: Long"
          ]
        }
      ]
    },
    {
      "cell_type": "code",
      "source": [
        "# 浮動小数型で作ろう。\n",
        "torch.mean(arr_t.float())"
      ],
      "metadata": {
        "id": "Tgvby17Hy4s6",
        "outputId": "92daf768-54f6-4ac8-e3b4-5fc4cc8c6c84",
        "colab": {
          "base_uri": "https://localhost:8080/"
        }
      },
      "execution_count": null,
      "outputs": [
        {
          "output_type": "execute_result",
          "data": {
            "text/plain": [
              "tensor(4.5000)"
            ]
          },
          "metadata": {},
          "execution_count": 56
        }
      ]
    },
    {
      "cell_type": "code",
      "source": [
        "# 大きい配列を作る\n",
        "arr_t2 = torch.ones([10, 20], dtype=torch.float32)\n",
        "print(arr_t2)"
      ],
      "metadata": {
        "collapsed": true,
        "id": "DrXXkLPVy_1n",
        "outputId": "6a079eed-9c11-411c-d690-e4b860e33457",
        "colab": {
          "base_uri": "https://localhost:8080/"
        }
      },
      "execution_count": null,
      "outputs": [
        {
          "output_type": "stream",
          "name": "stdout",
          "text": [
            "tensor([[1., 1., 1., 1., 1., 1., 1., 1., 1., 1., 1., 1., 1., 1., 1., 1., 1., 1.,\n",
            "         1., 1.],\n",
            "        [1., 1., 1., 1., 1., 1., 1., 1., 1., 1., 1., 1., 1., 1., 1., 1., 1., 1.,\n",
            "         1., 1.],\n",
            "        [1., 1., 1., 1., 1., 1., 1., 1., 1., 1., 1., 1., 1., 1., 1., 1., 1., 1.,\n",
            "         1., 1.],\n",
            "        [1., 1., 1., 1., 1., 1., 1., 1., 1., 1., 1., 1., 1., 1., 1., 1., 1., 1.,\n",
            "         1., 1.],\n",
            "        [1., 1., 1., 1., 1., 1., 1., 1., 1., 1., 1., 1., 1., 1., 1., 1., 1., 1.,\n",
            "         1., 1.],\n",
            "        [1., 1., 1., 1., 1., 1., 1., 1., 1., 1., 1., 1., 1., 1., 1., 1., 1., 1.,\n",
            "         1., 1.],\n",
            "        [1., 1., 1., 1., 1., 1., 1., 1., 1., 1., 1., 1., 1., 1., 1., 1., 1., 1.,\n",
            "         1., 1.],\n",
            "        [1., 1., 1., 1., 1., 1., 1., 1., 1., 1., 1., 1., 1., 1., 1., 1., 1., 1.,\n",
            "         1., 1.],\n",
            "        [1., 1., 1., 1., 1., 1., 1., 1., 1., 1., 1., 1., 1., 1., 1., 1., 1., 1.,\n",
            "         1., 1.],\n",
            "        [1., 1., 1., 1., 1., 1., 1., 1., 1., 1., 1., 1., 1., 1., 1., 1., 1., 1.,\n",
            "         1., 1.]])\n"
          ]
        }
      ]
    },
    {
      "cell_type": "code",
      "source": [
        "# ベクトル計算もできる。全要素に1を足す。\n",
        "arr_t2 + 1"
      ],
      "metadata": {
        "collapsed": true,
        "id": "7WuW1xkbzUHJ",
        "outputId": "893113e2-3f1a-4e3c-a1ab-a24ab053d0ba",
        "colab": {
          "base_uri": "https://localhost:8080/"
        }
      },
      "execution_count": null,
      "outputs": [
        {
          "output_type": "execute_result",
          "data": {
            "text/plain": [
              "tensor([[2., 2., 2., 2., 2., 2., 2., 2., 2., 2., 2., 2., 2., 2., 2., 2., 2., 2.,\n",
              "         2., 2.],\n",
              "        [2., 2., 2., 2., 2., 2., 2., 2., 2., 2., 2., 2., 2., 2., 2., 2., 2., 2.,\n",
              "         2., 2.],\n",
              "        [2., 2., 2., 2., 2., 2., 2., 2., 2., 2., 2., 2., 2., 2., 2., 2., 2., 2.,\n",
              "         2., 2.],\n",
              "        [2., 2., 2., 2., 2., 2., 2., 2., 2., 2., 2., 2., 2., 2., 2., 2., 2., 2.,\n",
              "         2., 2.],\n",
              "        [2., 2., 2., 2., 2., 2., 2., 2., 2., 2., 2., 2., 2., 2., 2., 2., 2., 2.,\n",
              "         2., 2.],\n",
              "        [2., 2., 2., 2., 2., 2., 2., 2., 2., 2., 2., 2., 2., 2., 2., 2., 2., 2.,\n",
              "         2., 2.],\n",
              "        [2., 2., 2., 2., 2., 2., 2., 2., 2., 2., 2., 2., 2., 2., 2., 2., 2., 2.,\n",
              "         2., 2.],\n",
              "        [2., 2., 2., 2., 2., 2., 2., 2., 2., 2., 2., 2., 2., 2., 2., 2., 2., 2.,\n",
              "         2., 2.],\n",
              "        [2., 2., 2., 2., 2., 2., 2., 2., 2., 2., 2., 2., 2., 2., 2., 2., 2., 2.,\n",
              "         2., 2.],\n",
              "        [2., 2., 2., 2., 2., 2., 2., 2., 2., 2., 2., 2., 2., 2., 2., 2., 2., 2.,\n",
              "         2., 2.]])"
            ]
          },
          "metadata": {},
          "execution_count": 60
        }
      ]
    },
    {
      "cell_type": "code",
      "source": [
        "# numpyに変える。\n",
        "arr = arr_t2.numpy()\n",
        "print(arr)"
      ],
      "metadata": {
        "collapsed": true,
        "id": "Vl6yjolSzgAr",
        "outputId": "a88a3a74-e5c6-4221-8fa9-d0f66bffe765",
        "colab": {
          "base_uri": "https://localhost:8080/"
        }
      },
      "execution_count": null,
      "outputs": [
        {
          "output_type": "stream",
          "name": "stdout",
          "text": [
            "[[1. 1. 1. 1. 1. 1. 1. 1. 1. 1. 1. 1. 1. 1. 1. 1. 1. 1. 1. 1.]\n",
            " [1. 1. 1. 1. 1. 1. 1. 1. 1. 1. 1. 1. 1. 1. 1. 1. 1. 1. 1. 1.]\n",
            " [1. 1. 1. 1. 1. 1. 1. 1. 1. 1. 1. 1. 1. 1. 1. 1. 1. 1. 1. 1.]\n",
            " [1. 1. 1. 1. 1. 1. 1. 1. 1. 1. 1. 1. 1. 1. 1. 1. 1. 1. 1. 1.]\n",
            " [1. 1. 1. 1. 1. 1. 1. 1. 1. 1. 1. 1. 1. 1. 1. 1. 1. 1. 1. 1.]\n",
            " [1. 1. 1. 1. 1. 1. 1. 1. 1. 1. 1. 1. 1. 1. 1. 1. 1. 1. 1. 1.]\n",
            " [1. 1. 1. 1. 1. 1. 1. 1. 1. 1. 1. 1. 1. 1. 1. 1. 1. 1. 1. 1.]\n",
            " [1. 1. 1. 1. 1. 1. 1. 1. 1. 1. 1. 1. 1. 1. 1. 1. 1. 1. 1. 1.]\n",
            " [1. 1. 1. 1. 1. 1. 1. 1. 1. 1. 1. 1. 1. 1. 1. 1. 1. 1. 1. 1.]\n",
            " [1. 1. 1. 1. 1. 1. 1. 1. 1. 1. 1. 1. 1. 1. 1. 1. 1. 1. 1. 1.]]\n"
          ]
        }
      ]
    },
    {
      "cell_type": "code",
      "source": [
        "# graphを作る。\n",
        "x = torch.linspace(0, 10, 100) # 0から10までを100個に分ける。\n",
        "y = x ** 2\n",
        "plt.plot(x, y)"
      ],
      "metadata": {
        "collapsed": true,
        "id": "fasoNUX_zpJb",
        "outputId": "546dd367-8074-452c-e6b2-98d72e02451a",
        "colab": {
          "base_uri": "https://localhost:8080/",
          "height": 448
        }
      },
      "execution_count": null,
      "outputs": [
        {
          "output_type": "execute_result",
          "data": {
            "text/plain": [
              "[<matplotlib.lines.Line2D at 0x7cd9e14d2390>]"
            ]
          },
          "metadata": {},
          "execution_count": 63
        },
        {
          "output_type": "display_data",
          "data": {
            "text/plain": [
              "<Figure size 640x480 with 1 Axes>"
            ],
            "image/png": "[encoded data removed]"
          },
          "metadata": {}
        }
      ]
    },
    {
      "cell_type": "code",
      "source": [
        "# 配列の整形にはviewを使う\n",
        "arr_t3 = torch.zeros([10])\n",
        "print(arr_t3)\n",
        "print(arr_t3.view(5, 2)) # 5×2に整形\n",
        "print(arr_t3.view(-1, 2)) # 片方-1にすると、自動的に調節してくれる。\n",
        "arr_t4 = arr_t3.view(5, 2)"
      ],
      "metadata": {
        "id": "UsngsdK1z2cJ",
        "outputId": "4f209a39-7e2a-41d8-c6ce-4d7df8626107",
        "colab": {
          "base_uri": "https://localhost:8080/"
        }
      },
      "execution_count": null,
      "outputs": [
        {
          "output_type": "stream",
          "name": "stdout",
          "text": [
            "tensor([0., 0., 0., 0., 0., 0., 0., 0., 0., 0.])\n",
            "tensor([[0., 0.],\n",
            "        [0., 0.],\n",
            "        [0., 0.],\n",
            "        [0., 0.],\n",
            "        [0., 0.]])\n",
            "tensor([[0., 0.],\n",
            "        [0., 0.],\n",
            "        [0., 0.],\n",
            "        [0., 0.],\n",
            "        [0., 0.]])\n"
          ]
        }
      ]
    },
    {
      "cell_type": "code",
      "source": [
        "# 配列の形状の確認にはsizeを使う\n",
        "arr_t4.size()"
      ],
      "metadata": {
        "id": "KAI-QtjJ0lvz",
        "outputId": "84b8dfd2-bba1-494a-d70a-a63fc90c11f1",
        "colab": {
          "base_uri": "https://localhost:8080/"
        }
      },
      "execution_count": null,
      "outputs": [
        {
          "output_type": "execute_result",
          "data": {
            "text/plain": [
              "torch.Size([5, 2])"
            ]
          },
          "metadata": {},
          "execution_count": 74
        }
      ]
    },
    {
      "cell_type": "code",
      "source": [
        "# 配列のスライス\n",
        "arr_t4[1:3]"
      ],
      "metadata": {
        "id": "0G2IpiH71H5e",
        "outputId": "96de3319-3649-4c7e-a1eb-a5c7cefd4fc2",
        "colab": {
          "base_uri": "https://localhost:8080/"
        }
      },
      "execution_count": null,
      "outputs": [
        {
          "output_type": "execute_result",
          "data": {
            "text/plain": [
              "tensor([[0., 0.],\n",
              "        [0., 0.]])"
            ]
          },
          "metadata": {},
          "execution_count": 76
        }
      ]
    },
    {
      "cell_type": "markdown",
      "source": [
        "## 自動微分"
      ],
      "metadata": {
        "id": "tvgLSmQKgFC2"
      }
    },
    {
      "cell_type": "code",
      "source": [
        "# 自動微分\n",
        "x = torch.tensor([2], dtype=torch.float32, requires_grad=True) # requires_gradは勾配計算をするかどうか。\n",
        "y = 3 * x ** 3\n",
        "y.backward() # 誤差逆伝播\n",
        "print(x.grad) #微分結果を出力"
      ],
      "metadata": {
        "id": "aG1Iwd9jgRAO",
        "outputId": "b7d7375d-279b-4ab5-8bea-9f7f7a1bc196",
        "colab": {
          "base_uri": "https://localhost:8080/"
        }
      },
      "execution_count": null,
      "outputs": [
        {
          "output_type": "stream",
          "name": "stdout",
          "text": [
            "tensor([36.])\n"
          ]
        }
      ]
    },
    {
      "cell_type": "code",
      "source": [
        "# 複数変数でも可能\n",
        "x1 = torch.tensor([4], dtype=torch.float32, requires_grad=True)\n",
        "x2 = torch.tensor([2], dtype=torch.float32, requires_grad=True)\n",
        "y = 2 * x1 ** 2 + 3 * x2 ** 3\n",
        "y.backward()\n",
        "print(x1.grad)\n",
        "print(x2.grad)"
      ],
      "metadata": {
        "id": "KGRIOXrvgo_r",
        "outputId": "c5b0e745-7446-447a-f68b-411257a50f37",
        "colab": {
          "base_uri": "https://localhost:8080/"
        }
      },
      "execution_count": null,
      "outputs": [
        {
          "output_type": "stream",
          "name": "stdout",
          "text": [
            "tensor([16.])\n",
            "tensor([36.])\n"
          ]
        }
      ]
    },
    {
      "cell_type": "markdown",
      "source": [
        "# PyTorchによる機械学習"
      ],
      "metadata": {
        "id": "J-_bRn8hhyRm"
      }
    },
    {
      "cell_type": "markdown",
      "source": [
        "1. 入力データ・教師データを用意\n",
        "2. モデルを作成\n",
        "3. 予測値計算(順伝播)、損失関数、勾配計算\n",
        "4. 重みを更新\n",
        "\n",
        "今回は、MNISTと呼ばれる0～9の手書きの数字のデータセットを用いる。"
      ],
      "metadata": {
        "id": "g9Ufe6Qekb3X"
      }
    },
    {
      "cell_type": "markdown",
      "source": [
        "## ひとまず予測を出すまで"
      ],
      "metadata": {
        "id": "UVxgNcXSzy_C"
      }
    },
    {
      "cell_type": "code",
      "source": [
        "from ast import increment_lineno\n",
        "import torch\n",
        "import torch.nn as nn\n",
        "import torch.optim as optim\n",
        "import matplotlib.pyplot as plt\n",
        "import numpy as np\n",
        "%matplotlib inline\n",
        "plt.style.use(\"ggplot\")"
      ],
      "metadata": {
        "id": "VNaIxjJxoVY7"
      },
      "execution_count": null,
      "outputs": []
    },
    {
      "cell_type": "code",
      "source": [
        "# 生成される乱数の値を固定\n",
        "torch.manual_seed(123)"
      ],
      "metadata": {
        "id": "4tqgCKZcoyeI",
        "outputId": "dab9e43d-f5e6-4481-eaf8-cd2410770e50",
        "colab": {
          "base_uri": "https://localhost:8080/"
        }
      },
      "execution_count": null,
      "outputs": [
        {
          "output_type": "execute_result",
          "data": {
            "text/plain": [
              "<torch._C.Generator at 0x7ec910e9cdb0>"
            ]
          },
          "metadata": {},
          "execution_count": 64
        }
      ]
    },
    {
      "cell_type": "code",
      "source": [
        "# いくつかの数を定義\n",
        "a = 3\n",
        "b = 2\n",
        "x = torch.linspace(0, 5, 100).view(100, 1) # 100はバッチの次元、1は入力データの次元\n",
        "eps = torch.randn(100, 1) # 乱数\n",
        "y = a * x + b + eps"
      ],
      "metadata": {
        "id": "SwT0ddUEo1Ob"
      },
      "execution_count": null,
      "outputs": []
    },
    {
      "cell_type": "code",
      "source": [
        "# グラフを描く\n",
        "plt.scatter(x, y)"
      ],
      "metadata": {
        "collapsed": true,
        "id": "E3-MskGsqTP4",
        "outputId": "d6e01983-543d-4f53-9c02-13c102778275",
        "colab": {
          "base_uri": "https://localhost:8080/",
          "height": 448
        }
      },
      "execution_count": null,
      "outputs": [
        {
          "output_type": "execute_result",
          "data": {
            "text/plain": [
              "<matplotlib.collections.PathCollection at 0x7ec819523210>"
            ]
          },
          "metadata": {},
          "execution_count": 66
        },
        {
          "output_type": "display_data",
          "data": {
            "text/plain": [
              "<Figure size 640x480 with 1 Axes>"
            ],
            "image/png": "[encoded data removed]"
          },
          "metadata": {}
        }
      ]
    },
    {
      "cell_type": "code",
      "source": [
        "# 線形回帰のクラスを作成\n",
        "class LR(nn.Module): # nn.Moduleを継承。PyTorchにおいて、ニューラルネットワークの基盤となるクラス。\n",
        "    def __init__(self): # __init__は変数の初期化。\n",
        "        super().__init__()\n",
        "        self.linear = nn.Linear(in_features=1, out_features=1) # 変数を定義。initの中で変数を定義してる。多分。\n",
        "    def forward(self, x): # ここはforwardという名前でなければいけない！\n",
        "        output = self.linear(x)\n",
        "        return output"
      ],
      "metadata": {
        "id": "oZca8wi-qWjH"
      },
      "execution_count": null,
      "outputs": []
    },
    {
      "cell_type": "code",
      "source": [
        "# LRクラスのインスタンス、modelを作成。\n",
        "model = LR()"
      ],
      "metadata": {
        "id": "nYhNJyzLrNZu"
      },
      "execution_count": null,
      "outputs": []
    },
    {
      "cell_type": "code",
      "source": [
        "# modelに入れるための変数x_testを定義\n",
        "x_test = torch.tensor([[1.0], [2.0]])"
      ],
      "metadata": {
        "id": "g8L2gf5ErOp0"
      },
      "execution_count": null,
      "outputs": []
    },
    {
      "cell_type": "code",
      "source": [
        "# 普通のクラスだとこういう書き方はできないが、LRはクラスnn.Moduleを継承しているため、自動的にforwardメソッドが実行される。\n",
        "model(x_test)"
      ],
      "metadata": {
        "id": "lqmVPuh-rTDP",
        "outputId": "f2fba238-ca4d-4817-9c5f-0cc57a251ba6",
        "colab": {
          "base_uri": "https://localhost:8080/"
        }
      },
      "execution_count": null,
      "outputs": [
        {
          "output_type": "execute_result",
          "data": {
            "text/plain": [
              "tensor([[-0.6505],\n",
              "        [-1.4166]], grad_fn=<AddmmBackward0>)"
            ]
          },
          "metadata": {},
          "execution_count": 71
        }
      ]
    },
    {
      "cell_type": "code",
      "source": [
        "# 二つ目の変数を定義し、modelに入れる\n",
        "x2 = torch.linspace(0, 3, 100).view(100, 1)\n",
        "y_pred = model(x2)"
      ],
      "metadata": {
        "id": "cpg8styyrY03"
      },
      "execution_count": null,
      "outputs": []
    },
    {
      "cell_type": "code",
      "source": [
        "# グラフを描画\n",
        "plt.plot(x2, y_pred.detach(), label=\"prediction\") # グラフを描画する際には勾配計算の能力を取り外しておく必要がある。それがdetach()\n",
        "plt.scatter(x, y, label=\"data\")\n",
        "plt.legend()"
      ],
      "metadata": {
        "id": "cSRzT2fSzD93",
        "outputId": "8071b6a0-f11d-41d0-b668-cdcfbc1f484c",
        "colab": {
          "base_uri": "https://localhost:8080/",
          "height": 448
        }
      },
      "execution_count": null,
      "outputs": [
        {
          "output_type": "execute_result",
          "data": {
            "text/plain": [
              "<matplotlib.legend.Legend at 0x7ec81950d310>"
            ]
          },
          "metadata": {},
          "execution_count": 73
        },
        {
          "output_type": "display_data",
          "data": {
            "text/plain": [
              "<Figure size 640x480 with 1 Axes>"
            ],
            "image/png": "[encoded data removed]"
          },
          "metadata": {}
        }
      ]
    },
    {
      "cell_type": "markdown",
      "source": [
        "## 損失関数、optimizerを使う"
      ],
      "metadata": {
        "id": "KFafyL4yz4rX"
      }
    },
    {
      "cell_type": "code",
      "source": [
        "criterion = nn.MSELoss()\n",
        "optimizer = optim.SGD(model.parameters(), lr=0.001)"
      ],
      "metadata": {
        "id": "Xt2aydplz7lf"
      },
      "execution_count": null,
      "outputs": []
    },
    {
      "cell_type": "code",
      "source": [
        "# 損失関数を保存しておくリストを作る。\n",
        "losses = []\n",
        "num_epoch = 500 # エポック数。モデルがトレーニングデータ全体を学習する回数。\n",
        "for epoch in range(num_epoch):\n",
        "    # 本来ならミニバッチの学習をするが、データセットが小さいためバッチの学習を行う。<--わからんが飛ばす\n",
        "    optimizer.zero_grad() # 勾配の初期化\n",
        "    y_pred = model(x) # modelにxを与え、予測値を計算\n",
        "    loss = criterion(y_pred, y) # 損失関数の計算\n",
        "    loss.backward() # 誤差逆伝播\n",
        "    optimizer.step() # 重みとバイアスを更新。ここで、modelそのものがよりよくなる。\n",
        "    if epoch % 10 == 0: # 10回刻みで出力\n",
        "        print(\"epoch: {}, loss: {}\".format(epoch, loss.item())) # .item()は変数の中身を取り出すメソッド。\n",
        "        losses.append(loss.item())\n"
      ],
      "metadata": {
        "id": "NBVIjMvu0NE7",
        "collapsed": true,
        "outputId": "e058908b-b611-41e5-e7cc-cfbf60ad18b1",
        "colab": {
          "base_uri": "https://localhost:8080/"
        }
      },
      "execution_count": null,
      "outputs": [
        {
          "output_type": "stream",
          "name": "stdout",
          "text": [
            "epoch: 0, loss: 156.7843017578125\n",
            "epoch: 10, loss: 108.7425765991211\n",
            "epoch: 20, loss: 75.5283203125\n",
            "epoch: 30, loss: 52.565086364746094\n",
            "epoch: 40, loss: 36.68894958496094\n",
            "epoch: 50, loss: 25.712499618530273\n",
            "epoch: 60, loss: 18.12348175048828\n",
            "epoch: 70, loss: 12.876379013061523\n",
            "epoch: 80, loss: 9.248371124267578\n",
            "epoch: 90, loss: 6.73973274230957\n",
            "epoch: 100, loss: 5.004983901977539\n",
            "epoch: 110, loss: 3.805264472961426\n",
            "epoch: 120, loss: 2.9754467010498047\n",
            "epoch: 130, loss: 2.401364326477051\n",
            "epoch: 140, loss: 2.004089593887329\n",
            "epoch: 150, loss: 1.7290531396865845\n",
            "epoch: 160, loss: 1.5385338068008423\n",
            "epoch: 170, loss: 1.406448245048523\n",
            "epoch: 180, loss: 1.3147624731063843\n",
            "epoch: 190, loss: 1.2510120868682861\n",
            "epoch: 200, loss: 1.2065790891647339\n",
            "epoch: 210, loss: 1.1755023002624512\n",
            "epoch: 220, loss: 1.1536643505096436\n",
            "epoch: 230, loss: 1.1382170915603638\n",
            "epoch: 240, loss: 1.1271913051605225\n",
            "epoch: 250, loss: 1.1192246675491333\n",
            "epoch: 260, loss: 1.1133769750595093\n",
            "epoch: 270, loss: 1.1089965105056763\n",
            "epoch: 280, loss: 1.1056345701217651\n",
            "epoch: 290, loss: 1.102979063987732\n",
            "epoch: 300, loss: 1.1008155345916748\n",
            "epoch: 310, loss: 1.0989947319030762\n",
            "epoch: 320, loss: 1.0974141359329224\n",
            "epoch: 330, loss: 1.0960028171539307\n",
            "epoch: 340, loss: 1.0947109460830688\n",
            "epoch: 350, loss: 1.0935050249099731\n",
            "epoch: 360, loss: 1.092361330986023\n",
            "epoch: 370, loss: 1.0912634134292603\n",
            "epoch: 380, loss: 1.0901998281478882\n",
            "epoch: 390, loss: 1.0891631841659546\n",
            "epoch: 400, loss: 1.088147759437561\n",
            "epoch: 410, loss: 1.0871498584747314\n",
            "epoch: 420, loss: 1.0861663818359375\n",
            "epoch: 430, loss: 1.0851963758468628\n",
            "epoch: 440, loss: 1.084237813949585\n",
            "epoch: 450, loss: 1.0832898616790771\n",
            "epoch: 460, loss: 1.0823521614074707\n",
            "epoch: 470, loss: 1.0814237594604492\n",
            "epoch: 480, loss: 1.0805050134658813\n",
            "epoch: 490, loss: 1.0795947313308716\n"
          ]
        }
      ]
    },
    {
      "cell_type": "code",
      "source": [
        "# グラフを表示。単調に下がっているため、うまく学習できていることが分かる。\n",
        "plt.plot(losses)"
      ],
      "metadata": {
        "collapsed": true,
        "id": "9aDjVpqx16Rg",
        "outputId": "2d6424fb-9b82-499c-91ac-d4ae7de9920a",
        "colab": {
          "base_uri": "https://localhost:8080/",
          "height": 448
        }
      },
      "execution_count": null,
      "outputs": [
        {
          "output_type": "execute_result",
          "data": {
            "text/plain": [
              "[<matplotlib.lines.Line2D at 0x7ec81940e750>]"
            ]
          },
          "metadata": {},
          "execution_count": 79
        },
        {
          "output_type": "display_data",
          "data": {
            "text/plain": [
              "<Figure size 640x480 with 1 Axes>"
            ],
            "image/png": "[encoded data removed]"
          },
          "metadata": {}
        }
      ]
    },
    {
      "cell_type": "code",
      "source": [
        "# 実際に、線形回帰をしてみる。\n",
        "x_test = torch.linspace(0, 5, 100).view(100, 1)\n",
        "y_test = model(x_test)\n",
        "plt.plot(x_test, y_test.detach(), label=\"prediction\")\n",
        "plt.scatter(x, y)\n",
        "plt.legend()"
      ],
      "metadata": {
        "id": "ZISzCquk2bVh",
        "outputId": "d7e3baeb-05a0-446e-fdec-136ce9dc118f",
        "colab": {
          "base_uri": "https://localhost:8080/",
          "height": 448
        }
      },
      "execution_count": null,
      "outputs": [
        {
          "output_type": "execute_result",
          "data": {
            "text/plain": [
              "<matplotlib.legend.Legend at 0x7ec81926f7d0>"
            ]
          },
          "metadata": {},
          "execution_count": 80
        },
        {
          "output_type": "display_data",
          "data": {
            "text/plain": [
              "<Figure size 640x480 with 1 Axes>"
            ],
            "image/png": "[encoded data removed]"
          },
          "metadata": {}
        }
      ]
    },
    {
      "cell_type": "markdown",
      "source": [
        "## MNISTで画像認識"
      ],
      "metadata": {
        "id": "_HEj999VCatm"
      }
    },
    {
      "cell_type": "markdown",
      "source": [
        "- MLPとは？→Multi Layer Perceptron\n",
        "\n",
        "線形層を多層に積み重ねたニューラルネットワーク。最も基本的。\n",
        "\n",
        "- ミニバッチ学習とは？\n",
        "- 60000枚の画像があったとき、100枚ずつに分けて学習するなど。小分けにして学習すること。"
      ],
      "metadata": {
        "id": "4ZJQmLqgCg8i"
      }
    },
    {
      "cell_type": "code",
      "source": [
        "import torch\n",
        "import torch.nn as nn\n",
        "import torch.optim as optim\n",
        "import numpy as np\n",
        "import matplotlib.pyplot as plt\n",
        "import seaborn as sns\n",
        "from torchvision import datasets, transforms\n",
        "from torch.utils.data import DataLoader"
      ],
      "metadata": {
        "id": "ivIUd7v7CgZi"
      },
      "execution_count": null,
      "outputs": []
    },
    {
      "cell_type": "code",
      "source": [
        "# これで、deviceの値がcudaなら、GPUを使うことができる。cudaはGPUを使うための言語らしい。\n",
        "device = \"cuda\" if torch.cuda.is_available() else \"cpu\""
      ],
      "metadata": {
        "id": "8wDOYx6EEuTD"
      },
      "execution_count": null,
      "outputs": []
    },
    {
      "cell_type": "code",
      "source": [
        "# 訓練時にはtrain=True、前処理をするときには、transform=transform\n",
        "transform = transforms.Compose([ # Composeは、関数の中にある前処理を上から順にやってくれる関数。\n",
        "    transforms.ToTensor() # 画像をテンソルに変換。\n",
        "])\n",
        "train_dataset = datasets.MNIST(root=\"./data\", train=True, download=True, transform=transform)"
      ],
      "metadata": {
        "collapsed": true,
        "id": "WuNJt55fFK7D",
        "outputId": "c149fa5b-4e90-46fa-b8d1-ee684f15540e",
        "colab": {
          "base_uri": "https://localhost:8080/"
        }
      },
      "execution_count": null,
      "outputs": [
        {
          "output_type": "stream",
          "name": "stdout",
          "text": [
            "Downloading http://yann.lecun.com/exdb/mnist/train-images-idx3-ubyte.gz\n",
            "Failed to download (trying next):\n",
            "HTTP Error 404: Not Found\n",
            "\n",
            "Downloading https://ossci-datasets.s3.amazonaws.com/mnist/train-images-idx3-ubyte.gz\n",
            "Downloading https://ossci-datasets.s3.amazonaws.com/mnist/train-images-idx3-ubyte.gz to ./data/MNIST/raw/train-images-idx3-ubyte.gz\n"
          ]
        },
        {
          "output_type": "stream",
          "name": "stderr",
          "text": [
            "100%|██████████| 9.91M/9.91M [00:00<00:00, 16.3MB/s]\n"
          ]
        },
        {
          "output_type": "stream",
          "name": "stdout",
          "text": [
            "Extracting ./data/MNIST/raw/train-images-idx3-ubyte.gz to ./data/MNIST/raw\n",
            "\n",
            "Downloading http://yann.lecun.com/exdb/mnist/train-labels-idx1-ubyte.gz\n",
            "Failed to download (trying next):\n",
            "HTTP Error 404: Not Found\n",
            "\n",
            "Downloading https://ossci-datasets.s3.amazonaws.com/mnist/train-labels-idx1-ubyte.gz\n",
            "Downloading https://ossci-datasets.s3.amazonaws.com/mnist/train-labels-idx1-ubyte.gz to ./data/MNIST/raw/train-labels-idx1-ubyte.gz\n"
          ]
        },
        {
          "output_type": "stream",
          "name": "stderr",
          "text": [
            "100%|██████████| 28.9k/28.9k [00:00<00:00, 496kB/s]\n"
          ]
        },
        {
          "output_type": "stream",
          "name": "stdout",
          "text": [
            "Extracting ./data/MNIST/raw/train-labels-idx1-ubyte.gz to ./data/MNIST/raw\n",
            "\n",
            "Downloading http://yann.lecun.com/exdb/mnist/t10k-images-idx3-ubyte.gz\n",
            "Failed to download (trying next):\n",
            "HTTP Error 404: Not Found\n",
            "\n",
            "Downloading https://ossci-datasets.s3.amazonaws.com/mnist/t10k-images-idx3-ubyte.gz\n",
            "Downloading https://ossci-datasets.s3.amazonaws.com/mnist/t10k-images-idx3-ubyte.gz to ./data/MNIST/raw/t10k-images-idx3-ubyte.gz\n"
          ]
        },
        {
          "output_type": "stream",
          "name": "stderr",
          "text": [
            "100%|██████████| 1.65M/1.65M [00:00<00:00, 4.59MB/s]\n"
          ]
        },
        {
          "output_type": "stream",
          "name": "stdout",
          "text": [
            "Extracting ./data/MNIST/raw/t10k-images-idx3-ubyte.gz to ./data/MNIST/raw\n",
            "\n",
            "Downloading http://yann.lecun.com/exdb/mnist/t10k-labels-idx1-ubyte.gz\n",
            "Failed to download (trying next):\n",
            "HTTP Error 404: Not Found\n",
            "\n",
            "Downloading https://ossci-datasets.s3.amazonaws.com/mnist/t10k-labels-idx1-ubyte.gz\n",
            "Downloading https://ossci-datasets.s3.amazonaws.com/mnist/t10k-labels-idx1-ubyte.gz to ./data/MNIST/raw/t10k-labels-idx1-ubyte.gz\n"
          ]
        },
        {
          "output_type": "stream",
          "name": "stderr",
          "text": [
            "100%|██████████| 4.54k/4.54k [00:00<00:00, 6.07MB/s]"
          ]
        },
        {
          "output_type": "stream",
          "name": "stdout",
          "text": [
            "Extracting ./data/MNIST/raw/t10k-labels-idx1-ubyte.gz to ./data/MNIST/raw\n",
            "\n"
          ]
        },
        {
          "output_type": "stream",
          "name": "stderr",
          "text": [
            "\n"
          ]
        }
      ]
    },
    {
      "cell_type": "code",
      "source": [
        "# ミニバッチの大きさを設定\n",
        "size_batches = 100\n",
        "# データセットを宣言。shuffle=Trueにすると、画像をランダムな順番で読みこんでくれる。\n",
        "train_dataloader = DataLoader(train_dataset, batch_size=size_batches, shuffle=True)"
      ],
      "metadata": {
        "id": "-EuKVZpAH8HD"
      },
      "execution_count": null,
      "outputs": []
    },
    {
      "cell_type": "code",
      "source": [
        "# 試しに画像のデータを見てみよう。\n",
        "train_iter = iter(train_dataloader) # iterはiteratorの略。データを一個ずつ取り出すときに使う。\n",
        "imgs, labels = next(train_iter) #最初の100枚を読み込む\n",
        "print(imgs.size()) # 最初の100はミニバッチの次元数。100枚だから100。1はチャネル。グレースケールなので1。RGBなら3、透明度も入れたら4。28、28は画像の大きさ。28×28ピクセルの画像。\n",
        "print(labels) # 分類の教師データ。"
      ],
      "metadata": {
        "id": "WQ6-Gj-oIEzb",
        "outputId": "4cd84bf9-db30-4d52-9bb1-410ee59d4183",
        "colab": {
          "base_uri": "https://localhost:8080/"
        }
      },
      "execution_count": null,
      "outputs": [
        {
          "output_type": "stream",
          "name": "stdout",
          "text": [
            "torch.Size([100, 1, 28, 28])\n",
            "tensor([5, 7, 3, 7, 3, 4, 3, 7, 3, 8, 6, 4, 3, 2, 1, 8, 8, 6, 6, 2, 0, 1, 9, 6,\n",
            "        1, 5, 2, 8, 8, 5, 1, 7, 9, 7, 2, 8, 6, 0, 7, 8, 3, 9, 6, 7, 2, 8, 2, 7,\n",
            "        7, 4, 8, 2, 7, 5, 7, 1, 6, 1, 0, 9, 5, 4, 5, 0, 0, 5, 5, 6, 0, 2, 4, 2,\n",
            "        3, 5, 0, 0, 8, 7, 8, 5, 7, 6, 7, 0, 5, 0, 2, 3, 0, 6, 3, 9, 4, 0, 8, 3,\n",
            "        9, 7, 7, 1])\n"
          ]
        }
      ]
    },
    {
      "cell_type": "code",
      "source": [
        "# 配列img[0]のうち、最初の画像をimgとして保存。\n",
        "img = imgs[0]"
      ],
      "metadata": {
        "id": "r1-rc00pKxt6"
      },
      "execution_count": null,
      "outputs": []
    },
    {
      "cell_type": "code",
      "source": [
        "# 今はチャネルが最初に来ているが、最後に回す必要があるので軸の順番を変換。\n",
        "# なぜかというと、tensorは(C, H, W)の順を想定しているが、matplotは(H, W, C)の順を想定しているから。\n",
        "img_permute = img.permute(1, 2, 0)"
      ],
      "metadata": {
        "id": "Pc99NodyOtZ7"
      },
      "execution_count": null,
      "outputs": []
    },
    {
      "cell_type": "code",
      "source": [
        "# 画像を表示。\n",
        "sns.heatmap(img_permute.numpy()[:, :, 0]) # tensorクラスではだめで、二次元の配列でなければだめ。"
      ],
      "metadata": {
        "id": "JpuIlj5BO3ru",
        "outputId": "5ce348b9-7851-41eb-e17a-cccd5c6a2a95",
        "colab": {
          "base_uri": "https://localhost:8080/",
          "height": 453
        }
      },
      "execution_count": null,
      "outputs": [
        {
          "output_type": "execute_result",
          "data": {
            "text/plain": [
              "<Axes: >"
            ]
          },
          "metadata": {},
          "execution_count": 11
        },
        {
          "output_type": "display_data",
          "data": {
            "text/plain": [
              "<Figure size 640x480 with 2 Axes>"
            ],
            "image/png": "[encoded data removed]"
          },
          "metadata": {}
        }
      ]
    },
    {
      "cell_type": "code",
      "source": [
        "# MLPを実装。線形層と活性化関数の繰り返し。ReLUが活性化関数。\n",
        "class MLP(nn.Module):\n",
        "    def __init__(self):\n",
        "        super().__init__()\n",
        "        self.classifier = nn.Sequential(\n",
        "            nn.Linear(28 * 28, 400),\n",
        "            nn.ReLU(inplace=True),\n",
        "            nn.Linear(400, 200),\n",
        "            nn.ReLU(inplace=True),\n",
        "            nn.Linear(200, 100),\n",
        "            nn.ReLU(inplace=True),\n",
        "            nn.Linear(100, 10)\n",
        "        )\n",
        "    def forward(self, x):\n",
        "        output = self.classifier(x) # 順伝播\n",
        "        return output"
      ],
      "metadata": {
        "id": "SmQp2bi9chE0"
      },
      "execution_count": null,
      "outputs": []
    },
    {
      "cell_type": "code",
      "source": [
        "model = MLP()"
      ],
      "metadata": {
        "id": "BR2bEYAxdUtx"
      },
      "execution_count": null,
      "outputs": []
    },
    {
      "cell_type": "code",
      "source": [
        "model.to(device)"
      ],
      "metadata": {
        "colab": {
          "base_uri": "https://localhost:8080/"
        },
        "id": "Zvk-xonIddOt",
        "outputId": "15dae08d-2b0e-41cf-9d9a-b0f928c962ef"
      },
      "execution_count": null,
      "outputs": [
        {
          "output_type": "execute_result",
          "data": {
            "text/plain": [
              "MLP(\n",
              "  (classifier): Sequential(\n",
              "    (0): Linear(in_features=784, out_features=400, bias=True)\n",
              "    (1): ReLU(inplace=True)\n",
              "    (2): Linear(in_features=400, out_features=200, bias=True)\n",
              "    (3): ReLU(inplace=True)\n",
              "    (4): Linear(in_features=200, out_features=100, bias=True)\n",
              "    (5): ReLU(inplace=True)\n",
              "    (6): Linear(in_features=100, out_features=10, bias=True)\n",
              "  )\n",
              ")"
            ]
          },
          "metadata": {},
          "execution_count": 14
        }
      ]
    },
    {
      "cell_type": "code",
      "source": [
        "# criterionは損失関数\n",
        "criterion = nn.CrossEntropyLoss()\n",
        "optimizer = optim.Adam(model.parameters(), lr=0.001)"
      ],
      "metadata": {
        "id": "WUGaPhy4d3rp"
      },
      "execution_count": null,
      "outputs": []
    },
    {
      "cell_type": "code",
      "source": [
        "num_epochs = 15\n",
        "losses = [] # 誤差\n",
        "accs = [] # 正確さ\n",
        "for epoch in range(num_epochs):\n",
        "    running_loss = 0.0\n",
        "    running_acc = 0.0\n",
        "    for imgs, labels in train_dataloader: # 100個ずつの画像と教師データに対し繰り返し\n",
        "        imgs =imgs.view(size_batches, -1) # imgsを画像からベクトルへ\n",
        "        imgs = imgs.to(device) # GPUに送る\n",
        "        labels = labels.to(device)\n",
        "        optimizer.zero_grad() # optimizerを初期化\n",
        "        output = model(imgs)\n",
        "        loss = criterion(output, labels) # 誤差を計算\n",
        "        running_loss += loss.item() # running_lossに誤差を加える\n",
        "        pred = torch.argmax(output, dim=1) # 予測。dim=1は分類の軸であり、分類の軸の中でoutputの値が最も大きなものの値を返す。つまり、0～9の中で一番ありえそうだと予測したものを返す。\n",
        "        running_acc += torch.mean(pred.eq(labels).float()) # predがlabelsと等しいか判定\n",
        "        loss.backward()\n",
        "        optimizer.step()\n",
        "    running_loss /= len(train_dataloader) # running_lossの値をdataloaderの数で割って平均値にしておく。\n",
        "    running_acc /= len(train_dataloader)\n",
        "    losses.append(running_loss) # lossesに要素を追加\n",
        "    accs.append(running_acc.cpu()) # plotするためにはnumpyである必要があるため、cpuに変換\n",
        "    print(\"epoch: {}, loss: {}, acc: {}\".format(epoch, running_loss, running_acc))"
      ],
      "metadata": {
        "colab": {
          "base_uri": "https://localhost:8080/"
        },
        "id": "SHMf8eKffcFx",
        "outputId": "88bbf06f-b5bc-4bab-b52b-c0cd3eed4fae"
      },
      "execution_count": null,
      "outputs": [
        {
          "output_type": "stream",
          "name": "stdout",
          "text": [
            "epoch: 0, loss: 0.3119179498404264, acc: 0.9074844717979431\n",
            "epoch: 1, loss: 0.10914147446242471, acc: 0.9675331711769104\n",
            "epoch: 2, loss: 0.07336996509227901, acc: 0.9776996374130249\n",
            "epoch: 3, loss: 0.05197636365657672, acc: 0.983398973941803\n",
            "epoch: 4, loss: 0.03868238099947727, acc: 0.9876146912574768\n",
            "epoch: 5, loss: 0.033250835618043005, acc: 0.989748477935791\n",
            "epoch: 6, loss: 0.027518233186468326, acc: 0.9909657835960388\n",
            "epoch: 7, loss: 0.022071762760800386, acc: 0.9928821921348572\n",
            "epoch: 8, loss: 0.02068911167419477, acc: 0.9932650923728943\n",
            "epoch: 9, loss: 0.01665308090846035, acc: 0.9942649602890015\n",
            "epoch: 10, loss: 0.01584163883152845, acc: 0.9948317408561707\n",
            "epoch: 11, loss: 0.014154793074552193, acc: 0.9951483607292175\n",
            "epoch: 12, loss: 0.015363575711520146, acc: 0.9949985146522522\n",
            "epoch: 13, loss: 0.008753311190454648, acc: 0.9972489476203918\n",
            "epoch: 14, loss: 0.011671257357696353, acc: 0.9962822794914246\n"
          ]
        }
      ]
    },
    {
      "cell_type": "code",
      "source": [
        "plt.plot(losses)"
      ],
      "metadata": {
        "colab": {
          "base_uri": "https://localhost:8080/",
          "height": 448
        },
        "id": "hO2KrK14O4dp",
        "outputId": "c6ead5f9-99e1-40b8-a584-e6666ea8296b"
      },
      "execution_count": null,
      "outputs": [
        {
          "output_type": "execute_result",
          "data": {
            "text/plain": [
              "[<matplotlib.lines.Line2D at 0x7f1055f38450>]"
            ]
          },
          "metadata": {},
          "execution_count": 17
        },
        {
          "output_type": "display_data",
          "data": {
            "text/plain": [
              "<Figure size 640x480 with 1 Axes>"
            ],
            "image/png": "[encoded data removed]"
          },
          "metadata": {}
        }
      ]
    },
    {
      "cell_type": "code",
      "source": [
        "plt.plot(accs)"
      ],
      "metadata": {
        "colab": {
          "base_uri": "https://localhost:8080/",
          "height": 448
        },
        "id": "Unj8mX0_O7us",
        "outputId": "2eabf633-8ae6-4914-fcd6-d88361c6ba28"
      },
      "execution_count": null,
      "outputs": [
        {
          "output_type": "execute_result",
          "data": {
            "text/plain": [
              "[<matplotlib.lines.Line2D at 0x7f106467d710>]"
            ]
          },
          "metadata": {},
          "execution_count": 18
        },
        {
          "output_type": "display_data",
          "data": {
            "text/plain": [
              "<Figure size 640x480 with 1 Axes>"
            ],
            "image/png": "[encoded data removed]"
          },
          "metadata": {}
        }
      ]
    },
    {
      "cell_type": "code",
      "source": [
        "# 試しに分類してみる\n",
        "train_iter = iter(train_dataloader) # 一個ずつ取り出す\n",
        "imgs, labels = next(train_iter)"
      ],
      "metadata": {
        "id": "0kkCKZLBO-u4"
      },
      "execution_count": null,
      "outputs": []
    },
    {
      "cell_type": "code",
      "source": [
        "# このラベルと、gpu上の予測データが一致していればOK！\n",
        "labels"
      ],
      "metadata": {
        "id": "dl8ZrBpmGXQ3",
        "outputId": "0315514c-0e1d-48a0-ff7b-7c2e896aeca6",
        "colab": {
          "base_uri": "https://localhost:8080/"
        }
      },
      "execution_count": null,
      "outputs": [
        {
          "output_type": "execute_result",
          "data": {
            "text/plain": [
              "tensor([7, 1, 1, 5, 3, 8, 5, 6, 9, 7, 3, 7, 9, 5, 7, 3, 4, 9, 6, 5, 8, 1, 9, 0,\n",
              "        1, 3, 7, 0, 5, 3, 1, 1, 9, 4, 3, 0, 3, 6, 6, 8, 4, 7, 1, 2, 3, 2, 0, 0,\n",
              "        4, 5, 4, 8, 2, 0, 5, 2, 1, 8, 5, 3, 2, 4, 9, 4, 3, 5, 1, 6, 7, 9, 3, 3,\n",
              "        6, 0, 0, 0, 8, 2, 9, 5, 9, 5, 2, 3, 7, 9, 3, 4, 8, 7, 6, 6, 1, 8, 1, 4,\n",
              "        7, 6, 4, 7])"
            ]
          },
          "metadata": {},
          "execution_count": 20
        }
      ]
    },
    {
      "cell_type": "code",
      "source": [
        "# gpu上から予測データを取り出す\n",
        "imgs_gpu = imgs.view(100, -1).to(device)\n",
        "output = model(imgs_gpu)\n",
        "pred = torch.argmax(output, dim=1)\n",
        "print(pred)"
      ],
      "metadata": {
        "id": "1dzq-aP-GYxi",
        "outputId": "e921b683-0845-47a9-d77a-f31f462c50d1",
        "colab": {
          "base_uri": "https://localhost:8080/"
        }
      },
      "execution_count": null,
      "outputs": [
        {
          "output_type": "stream",
          "name": "stdout",
          "text": [
            "tensor([7, 1, 1, 5, 3, 8, 5, 6, 9, 7, 3, 7, 9, 5, 7, 3, 4, 9, 6, 5, 8, 1, 9, 0,\n",
            "        1, 3, 7, 0, 5, 3, 1, 1, 9, 4, 3, 0, 3, 6, 6, 8, 4, 7, 1, 2, 3, 2, 0, 0,\n",
            "        4, 5, 4, 8, 2, 0, 3, 7, 1, 8, 5, 3, 2, 4, 9, 4, 3, 5, 1, 6, 7, 9, 3, 3,\n",
            "        6, 0, 0, 0, 8, 2, 9, 5, 9, 5, 2, 3, 7, 9, 3, 4, 8, 7, 6, 6, 1, 8, 1, 4,\n",
            "        7, 6, 4, 7], device='cuda:0')\n"
          ]
        }
      ]
    },
    {
      "cell_type": "markdown",
      "source": [
        "### モデルの保存と読み込み"
      ],
      "metadata": {
        "id": "TbDyqnMLHH8C"
      }
    },
    {
      "cell_type": "code",
      "source": [
        "# まずパラメータ(重み、バイアスなど)を抜いてくる。\n",
        "params = model.state_dict()\n",
        "\n",
        "# 次に保存する\n",
        "torch.save(params, \"model.prm\") # model.prmはファイル名"
      ],
      "metadata": {
        "id": "K90siLCjHKKe"
      },
      "execution_count": null,
      "outputs": []
    },
    {
      "cell_type": "code",
      "source": [
        "# ファイルがあるか確認\n",
        "!ls"
      ],
      "metadata": {
        "id": "yFcu-zgoHQi9",
        "outputId": "e6dd201a-00f4-4641-b36e-36e29473811a",
        "colab": {
          "base_uri": "https://localhost:8080/"
        }
      },
      "execution_count": null,
      "outputs": [
        {
          "output_type": "stream",
          "name": "stdout",
          "text": [
            "data  model.prm  sample_data\n"
          ]
        }
      ]
    },
    {
      "cell_type": "code",
      "source": [
        "# ロードする\n",
        "param_load = torch.load(\"model.prm\")\n",
        "model.load_state_dict(param_load)"
      ],
      "metadata": {
        "id": "GyCPwYqCHmky",
        "outputId": "b31e8d56-aeff-4520-f191-14089cfc40b3",
        "colab": {
          "base_uri": "https://localhost:8080/"
        }
      },
      "execution_count": null,
      "outputs": [
        {
          "output_type": "stream",
          "name": "stderr",
          "text": [
            "<ipython-input-28-21e0f47abbe0>:2: FutureWarning: You are using `torch.load` with `weights_only=False` (the current default value), which uses the default pickle module implicitly. It is possible to construct malicious pickle data which will execute arbitrary code during unpickling (See https://github.com/pytorch/pytorch/blob/main/SECURITY.md#untrusted-models for more details). In a future release, the default value for `weights_only` will be flipped to `True`. This limits the functions that could be executed during unpickling. Arbitrary objects will no longer be allowed to be loaded via this mode unless they are explicitly allowlisted by the user via `torch.serialization.add_safe_globals`. We recommend you start setting `weights_only=True` for any use case where you don't have full control of the loaded file. Please open an issue on GitHub for any issues related to this experimental feature.\n",
            "  param_load = torch.load(\"model.prm\")\n"
          ]
        },
        {
          "output_type": "execute_result",
          "data": {
            "text/plain": [
              "<All keys matched successfully>"
            ]
          },
          "metadata": {},
          "execution_count": 28
        }
      ]
    },
    {
      "cell_type": "markdown",
      "source": [
        "## CNNで画像認識"
      ],
      "metadata": {
        "id": "X2rYA3zLH8Ed"
      }
    },
    {
      "cell_type": "markdown",
      "source": [
        "CNN=Convolutional Neural Network\n",
        "\n",
        "Convolutionalは畳み込みと訳される。\n",
        "\n",
        "畳み込み-->畳み込み-->……-->プーリングの流れ\n",
        "\n",
        "- 畳み込み：フィルターを通じて周囲の情報を取り込むこと。畳み込みをすることで、ノイズ除去・エッジ検出など画像の変換が可能。\n",
        "\n",
        "- フィルターには様々あり、平滑化するものや、輪郭だけ検出するフィルターなどがある。輪郭検出は、画像の微分により実現される。\n",
        "\n",
        "- CNNでは、フィルターの表現を学習する。チャネル数だけフィルターがある。\n",
        "\n",
        "- フィルターを通すと画像は少し縮小するが、それを埋めるのがパディング。これにより、画像の端まで読み込むことができ、画像が縮小しない。\n",
        "\n",
        "- プーリング：画像の解像度を下げること。解像度を下げるためにピクセルをまとめることになるが、その方法はいろいろある。\n",
        "\n",
        "- 一つはMaxプーリング。まとめる前のひとまとまりのうち、最大値を採用する。\n",
        "\n",
        "- CNNを用いてCIFAR10の分類にチャレンジ\n",
        "\n",
        "- CIFAR10：Canadian Institute For Advanced Research 10。10種類の動物や自動車などの画像を分類する。"
      ],
      "metadata": {
        "id": "v1KQCImdINNJ"
      }
    },
    {
      "cell_type": "code",
      "source": [
        "import torch\n",
        "import torchvision\n",
        "import torch.nn as nn\n",
        "import torch.optim as optim\n",
        "import numpy as np\n",
        "from torchvision import datasets, transforms\n",
        "import matplotlib.pyplot as plt\n",
        "from torch.utils.data import DataLoader"
      ],
      "metadata": {
        "id": "4oZo4AyzOKny"
      },
      "execution_count": 1,
      "outputs": []
    },
    {
      "cell_type": "code",
      "source": [
        "# ちゃんとgpuになってるか確認。\n",
        "device = \"cuda\" if torch.cuda.is_available() else \"cpu\"\n",
        "print(device)"
      ],
      "metadata": {
        "colab": {
          "base_uri": "https://localhost:8080/"
        },
        "id": "lm_iCTcUQOQ0",
        "outputId": "4a514ccc-e0f0-49ab-a109-8fb5ba645d06"
      },
      "execution_count": 2,
      "outputs": [
        {
          "output_type": "stream",
          "name": "stdout",
          "text": [
            "cuda\n"
          ]
        }
      ]
    },
    {
      "cell_type": "code",
      "source": [
        "# 前処理を定義\n",
        "transform = transforms.Compose([\n",
        "    transforms.ToTensor(), # 画像をTensorクラスに変えて、チャネルファーストに変えてくれる。\n",
        "    transforms.Normalize((0.5,), (0.5,)) # 平均、標準偏差を0.5に\n",
        "])\n",
        "\n",
        "# 訓練用データセットと検証用データセットを作成\n",
        "train_dataset = datasets.CIFAR10(root=\"./data\", train=True, download=True, transform=transform)\n",
        "vilidation_dataset = datasets.CIFAR10(root=\"./data\", train=False, download=True, transform=transform)"
      ],
      "metadata": {
        "colab": {
          "base_uri": "https://localhost:8080/"
        },
        "id": "IXydwcdkRFXG",
        "outputId": "4c7e0930-9525-48cc-9735-c8a603351f2c"
      },
      "execution_count": 3,
      "outputs": [
        {
          "output_type": "stream",
          "name": "stdout",
          "text": [
            "Downloading https://www.cs.toronto.edu/~kriz/cifar-10-python.tar.gz to ./data/cifar-10-python.tar.gz\n"
          ]
        },
        {
          "output_type": "stream",
          "name": "stderr",
          "text": [
            "100%|██████████| 170M/170M [00:06<00:00, 25.3MB/s]\n"
          ]
        },
        {
          "output_type": "stream",
          "name": "stdout",
          "text": [
            "Extracting ./data/cifar-10-python.tar.gz to ./data\n",
            "Files already downloaded and verified\n"
          ]
        }
      ]
    },
    {
      "cell_type": "code",
      "source": [
        "# 分類を作る\n",
        "names = (\"plane\", \"car\", \"bird\", \"cat\", \"deer\", \"dog\", \"frog\", \"horse\", \"ship\", \"truck\")"
      ],
      "metadata": {
        "id": "amL7r38XRuJt"
      },
      "execution_count": 4,
      "outputs": []
    },
    {
      "cell_type": "code",
      "source": [
        "# データを作る。\n",
        "train_dataloader = DataLoader(train_dataset, batch_size=32, shuffle=True)\n",
        "validation_dataloader = DataLoader(vilidation_dataset, batch_size=32, shuffle=False)"
      ],
      "metadata": {
        "id": "JnkiY-CvSEUi"
      },
      "execution_count": 5,
      "outputs": []
    },
    {
      "cell_type": "code",
      "source": [
        "# 画像とラベルを抜いてみる。\n",
        "data_iter = iter(train_dataloader)\n",
        "imgs, labels = next(data_iter)\n",
        "print(labels)"
      ],
      "metadata": {
        "colab": {
          "base_uri": "https://localhost:8080/"
        },
        "id": "L1aX6pXdSWCC",
        "outputId": "f023e027-6af9-4074-8c7a-efb04b72f60c"
      },
      "execution_count": 6,
      "outputs": [
        {
          "output_type": "stream",
          "name": "stdout",
          "text": [
            "tensor([0, 7, 7, 8, 5, 2, 3, 4, 9, 8, 2, 9, 5, 5, 7, 6, 4, 4, 4, 6, 9, 2, 2, 7,\n",
            "        9, 5, 6, 7, 6, 3, 2, 2])\n"
          ]
        }
      ]
    },
    {
      "cell_type": "code",
      "source": [
        "imgs.size() # ミニバッチのサイズ、チャネル、縦、横という順番であると確認。"
      ],
      "metadata": {
        "colab": {
          "base_uri": "https://localhost:8080/"
        },
        "id": "sV39JtgqSgZB",
        "outputId": "4113263b-d5c4-4229-87ea-733c540614b8"
      },
      "execution_count": 7,
      "outputs": [
        {
          "output_type": "execute_result",
          "data": {
            "text/plain": [
              "torch.Size([32, 3, 32, 32])"
            ]
          },
          "metadata": {},
          "execution_count": 7
        }
      ]
    },
    {
      "cell_type": "code",
      "source": [
        "# 画像を表示する。\n",
        "img = imgs[0]\n",
        "img_permute = img.permute(1, 2, 0) # チャネルラストに変更\n",
        "img_permute = 0.5 * img_permute + 0.5 # 画像の明るさをシフト\n",
        "img_permute = np.clip(img_permute, 0, 1) # 一応0から1の範囲を超えないようにしている。多分安全策。\n",
        "plt.imshow(img_permute)"
      ],
      "metadata": {
        "colab": {
          "base_uri": "https://localhost:8080/",
          "height": 448
        },
        "id": "iYs2NYD5SyIL",
        "outputId": "e7d3b8e9-4427-47b7-cd4f-949f0d922642"
      },
      "execution_count": 8,
      "outputs": [
        {
          "output_type": "execute_result",
          "data": {
            "text/plain": [
              "<matplotlib.image.AxesImage at 0x7864837f1a90>"
            ]
          },
          "metadata": {},
          "execution_count": 8
        },
        {
          "output_type": "display_data",
          "data": {
            "text/plain": [
              "<Figure size 640x480 with 1 Axes>"
            ],
            "image/png": "[encoded data removed]"
          },
          "metadata": {}
        }
      ]
    },
    {
      "cell_type": "code",
      "source": [
        "# CNNを実装。\n",
        "class CNN(nn.Module):\n",
        "    def __init__(self, num_classes):\n",
        "        super().__init__()\n",
        "        self.features = nn.Sequential(\n",
        "            nn.Conv2d(in_channels=3, out_channels=64, kernel_size=5, padding=2), # RGBなのでin_channelsは3、畳み込むたびに2ずつ画像が小さくなるため、2補う。\n",
        "            nn.ReLU(inplace=True),\n",
        "            nn.MaxPool2d(kernel_size=2), # 32×32の画像が16×16になる。\n",
        "            nn.Conv2d(in_channels=64, out_channels=128, kernel_size=3, padding=1), # RGBなのでin_channelsは3、畳み込むたびに2ずつ画像が小さくなるため、2補う。\n",
        "            nn.ReLU(inplace=True),\n",
        "            nn.MaxPool2d(kernel_size=2), # 16×16の画像が8×8になる。\n",
        "            nn.Conv2d(in_channels=128, out_channels=256, kernel_size=3, padding=1), # RGBなのでin_channelsは3、畳み込むたびに2ずつ画像が小さくなるため、2補う。\n",
        "            nn.ReLU(inplace=True),\n",
        "            nn.MaxPool2d(kernel_size=2), # 8×8の画像が4×4になる。\n",
        "            nn.Conv2d(in_channels=256, out_channels=128, kernel_size=3, padding=1), # RGBなのでin_channelsは3、畳み込むたびに2ずつ画像が小さくなるため、2補う。\n",
        "            nn.ReLU(inplace=True),\n",
        "        )\n",
        "        self.classifier = nn.Linear(in_features=4 * 4 * 128, out_features=num_classes) # in_featuresには1次元ベクトルにして渡す。4×4が128個ある。out_featuresは何個に分類するか。\n",
        "    def forward(self, x):\n",
        "        x = self.features(x)\n",
        "        x = x.view(x.size(0), -1) # x.size(0)はバッチ数を表す。(32, 4×4×128)という形になる。\n",
        "        x = self.classifier(x)\n",
        "        return x"
      ],
      "metadata": {
        "id": "crfeXHfJUULe"
      },
      "execution_count": 9,
      "outputs": []
    },
    {
      "cell_type": "code",
      "source": [
        "# modelを作成\n",
        "model = CNN(10) # 10はクラス数\n",
        "model.to(device)"
      ],
      "metadata": {
        "id": "7kX041CGfbq6",
        "outputId": "7509eca9-e16c-4803-d074-0b9124964bc0",
        "colab": {
          "base_uri": "https://localhost:8080/"
        }
      },
      "execution_count": 10,
      "outputs": [
        {
          "output_type": "execute_result",
          "data": {
            "text/plain": [
              "CNN(\n",
              "  (features): Sequential(\n",
              "    (0): Conv2d(3, 64, kernel_size=(5, 5), stride=(1, 1), padding=(2, 2))\n",
              "    (1): ReLU(inplace=True)\n",
              "    (2): MaxPool2d(kernel_size=2, stride=2, padding=0, dilation=1, ceil_mode=False)\n",
              "    (3): Conv2d(64, 128, kernel_size=(3, 3), stride=(1, 1), padding=(1, 1))\n",
              "    (4): ReLU(inplace=True)\n",
              "    (5): MaxPool2d(kernel_size=2, stride=2, padding=0, dilation=1, ceil_mode=False)\n",
              "    (6): Conv2d(128, 256, kernel_size=(3, 3), stride=(1, 1), padding=(1, 1))\n",
              "    (7): ReLU(inplace=True)\n",
              "    (8): MaxPool2d(kernel_size=2, stride=2, padding=0, dilation=1, ceil_mode=False)\n",
              "    (9): Conv2d(256, 128, kernel_size=(3, 3), stride=(1, 1), padding=(1, 1))\n",
              "    (10): ReLU(inplace=True)\n",
              "  )\n",
              "  (classifier): Linear(in_features=2048, out_features=10, bias=True)\n",
              ")"
            ]
          },
          "metadata": {},
          "execution_count": 10
        }
      ]
    },
    {
      "cell_type": "code",
      "source": [
        "# 損失関数とoptimizerを設定\n",
        "criterion = nn.CrossEntropyLoss()\n",
        "optimizer = optim.Adam(model.parameters(), lr=0.001, weight_decay=5e-4) # weight_decayで重みづけが大きくなりすぎないようにしている。"
      ],
      "metadata": {
        "id": "mNTKTaNVf1cT"
      },
      "execution_count": 11,
      "outputs": []
    },
    {
      "cell_type": "code",
      "source": [
        "# 学習のループ\n",
        "num_epochs = 15\n",
        "losses = []\n",
        "accs = []\n",
        "val_losses = []\n",
        "val_accs = []\n",
        "for epoch in range(num_epochs):\n",
        "    running_loss = 0.0\n",
        "    running_acc = 0.0\n",
        "    for imgs, labels, in train_dataloader:\n",
        "        imgs = imgs.to(device)\n",
        "        labels = labels.to(device)\n",
        "        optimizer.zero_grad() # 勾配の初期化\n",
        "        output = model(imgs)\n",
        "        loss = criterion(output, labels)\n",
        "        loss.backward()\n",
        "        running_loss += loss.item()\n",
        "        pred = torch.argmax(output, dim=1)\n",
        "        running_acc += torch.mean(pred.eq(labels).float())\n",
        "        optimizer.step()\n",
        "    running_loss /= len(train_dataloader)\n",
        "    running_acc /= len(train_dataloader)\n",
        "    losses.append(running_loss)\n",
        "    #accs.append(running_acc)\n",
        "    accs.append(running_acc.cpu())\n",
        "#\n",
        "# validationのループ\n",
        "#\n",
        "    val_running_loss = 0.0\n",
        "    val_running_acc = 0.0\n",
        "    for val_imgs, val_labels in validation_dataloader:\n",
        "        val_imgs = val_imgs.to(device)\n",
        "        val_labels = val_labels.to(device)\n",
        "        val_output = model(val_imgs)\n",
        "        val_loss = criterion(val_output, val_labels)\n",
        "        val_running_loss += val_loss.item()\n",
        "        val_pred = torch.argmax(val_output, dim=1)\n",
        "        val_running_acc += torch.mean(val_pred.eq(val_labels).float())\n",
        "    val_running_loss /= len(validation_dataloader)\n",
        "    val_running_acc /= len(validation_dataloader)\n",
        "    val_losses.append(val_running_loss)\n",
        "    #val_accs.append(val_running_acc)\n",
        "    val_accs.append(running_acc.cpu())\n",
        "    print(\"epoch: {}, loss: {}, acc: {}, \\\n",
        "     val acc: {}\".format(epoch, running_loss, running_acc, val_running_loss, val_running_acc))"
      ],
      "metadata": {
        "id": "re57OLtJgRGg",
        "outputId": "63d6a6c4-5111-42f8-f93c-a584668fe8b6",
        "colab": {
          "base_uri": "https://localhost:8080/"
        }
      },
      "execution_count": 12,
      "outputs": [
        {
          "output_type": "stream",
          "name": "stdout",
          "text": [
            "epoch: 0, loss: 1.3821702927865818, acc: 0.4954014718532562,      val acc: 1.0704782696577688\n",
            "epoch: 1, loss: 0.9339507958367324, acc: 0.6715651154518127,      val acc: 0.8534495114518431\n",
            "epoch: 2, loss: 0.7566105127525269, acc: 0.7348648309707642,      val acc: 0.808838818781673\n",
            "epoch: 3, loss: 0.6500345736989895, acc: 0.7745121717453003,      val acc: 0.746379979787924\n",
            "epoch: 4, loss: 0.5694991620549467, acc: 0.8005438446998596,      val acc: 0.7277980491566581\n",
            "epoch: 5, loss: 0.5080688443185043, acc: 0.8238763809204102,      val acc: 0.7319690786516324\n",
            "epoch: 6, loss: 0.4539979767824165, acc: 0.8420905470848083,      val acc: 0.7082256403403541\n",
            "epoch: 7, loss: 0.40925830496106863, acc: 0.8576055765151978,      val acc: 0.7369486551981764\n",
            "epoch: 8, loss: 0.3653634701994315, acc: 0.8723808526992798,      val acc: 0.7868095316445104\n",
            "epoch: 9, loss: 0.3352453133552523, acc: 0.8816378712654114,      val acc: 0.7779899665865654\n",
            "epoch: 10, loss: 0.3123753174915385, acc: 0.8907949328422546,      val acc: 0.7926020784595142\n",
            "epoch: 11, loss: 0.29006680902105564, acc: 0.8964331150054932,      val acc: 0.8254028422573504\n",
            "epoch: 12, loss: 0.26488773660377973, acc: 0.9053502678871155,      val acc: 0.8307361016258265\n",
            "epoch: 13, loss: 0.2514825310338806, acc: 0.9107085466384888,      val acc: 0.8228306215220746\n",
            "epoch: 14, loss: 0.23803173709405742, acc: 0.9149072170257568,      val acc: 0.8232962273942015\n"
          ]
        }
      ]
    },
    {
      "cell_type": "code",
      "source": [
        "plt.style.use(\"ggplot\")\n",
        "plt.plot(losses, label=\"train loss\")\n",
        "plt.plot(val_losses, label=\"val loss\")\n",
        "plt.legend()"
      ],
      "metadata": {
        "colab": {
          "base_uri": "https://localhost:8080/",
          "height": 448
        },
        "id": "yoAqwb2cE6wi",
        "outputId": "9f50ce06-7817-4f66-93f4-2932ab842959"
      },
      "execution_count": 13,
      "outputs": [
        {
          "output_type": "execute_result",
          "data": {
            "text/plain": [
              "<matplotlib.legend.Legend at 0x786471158850>"
            ]
          },
          "metadata": {},
          "execution_count": 13
        },
        {
          "output_type": "display_data",
          "data": {
            "text/plain": [
              "<Figure size 640x480 with 1 Axes>"
            ],
            "image/png": "[encoded data removed]"
          },
          "metadata": {}
        }
      ]
    },
    {
      "cell_type": "code",
      "source": [
        "plt.plot([accs_.cpu() for accs_ in accs], label=\"train acc\")\n",
        "plt.plot([accs_.cpu() for accs_ in val_accs], label=\"validation acc\")\n",
        "plt.legend()"
      ],
      "metadata": {
        "colab": {
          "base_uri": "https://localhost:8080/",
          "height": 448
        },
        "id": "q6k2TD_UFRBr",
        "outputId": "7525845f-b191-4523-a281-3b892a16e732"
      },
      "execution_count": 21,
      "outputs": [
        {
          "output_type": "execute_result",
          "data": {
            "text/plain": [
              "<matplotlib.legend.Legend at 0x7864540fe110>"
            ]
          },
          "metadata": {},
          "execution_count": 21
        },
        {
          "output_type": "display_data",
          "data": {
            "text/plain": [
              "<Figure size 640x480 with 1 Axes>"
            ],
            "image/png": "[encoded data removed]"
          },
          "metadata": {}
        }
      ]
    },
    {
      "cell_type": "markdown",
      "source": [
        "## データ拡張\n",
        "\n",
        "過学習を防ぐために、データ数を増やす。それがデータ拡張。\n",
        "PyTorchでは、エポックごとに別々な画像が生成される。動的なデータ拡張。"
      ],
      "metadata": {
        "id": "9KDiqb08HwJ_"
      }
    },
    {
      "cell_type": "code",
      "source": [
        "import torch\n",
        "import torchvision\n",
        "import torch.nn as nn\n",
        "import torch.optim as optim\n",
        "import numpy as np\n",
        "from torchvision import datasets, transforms\n",
        "import matplotlib.pyplot as plt\n",
        "from torch.utils.data import DataLoader"
      ],
      "metadata": {
        "id": "W4l_VuUZJL9P"
      },
      "execution_count": 1,
      "outputs": []
    },
    {
      "cell_type": "code",
      "source": [
        "# ちゃんとgpuになってるか確認。\n",
        "device = \"cuda\" if torch.cuda.is_available() else \"cpu\"\n",
        "print(device)"
      ],
      "metadata": {
        "colab": {
          "base_uri": "https://localhost:8080/"
        },
        "outputId": "edfdad36-59dd-4a1b-e624-4edffe827464",
        "id": "j0D9s7fmJL9Q"
      },
      "execution_count": 2,
      "outputs": [
        {
          "output_type": "stream",
          "name": "stdout",
          "text": [
            "cuda\n"
          ]
        }
      ]
    },
    {
      "cell_type": "code",
      "source": [
        "# データ拡張！\n",
        "# 前処理を定義\n",
        "train_transform = transforms.Compose([\n",
        "    transforms.RandomHorizontalFlip(), # ランダムに左右対称にする\n",
        "    transforms.ColorJitter(), # ランダムに色を変える。\n",
        "    transforms.RandomRotation(10), # 回転\n",
        "    transforms.ToTensor(), # 画像をTensorクラスに変えて、チャネルファーストに変えてくれる。\n",
        "    transforms.Normalize((0.5,), (0.5,)) # 平均、標準偏差を0.5に\n",
        "])\n",
        "\n",
        "val_transform = transforms.Compose([\n",
        "    transforms.ToTensor(),\n",
        "    transforms.Normalize((0.5,), (0.5,))\n",
        "])\n",
        "\n",
        "# 訓練用データセットと検証用データセットを作成\n",
        "train_dataset = datasets.CIFAR10(root=\"./data\", train=True, download=True, transform=train_transform)\n",
        "vilidation_dataset = datasets.CIFAR10(root=\"./data\", train=False, download=True, transform=val_transform)"
      ],
      "metadata": {
        "colab": {
          "base_uri": "https://localhost:8080/"
        },
        "outputId": "559653bd-d061-4ad2-b95e-f03d32708e04",
        "id": "QKQ0wdFhJL9R"
      },
      "execution_count": 3,
      "outputs": [
        {
          "output_type": "stream",
          "name": "stdout",
          "text": [
            "Files already downloaded and verified\n",
            "Files already downloaded and verified\n"
          ]
        }
      ]
    },
    {
      "cell_type": "code",
      "source": [
        "# 分類を作る\n",
        "names = (\"plane\", \"car\", \"bird\", \"cat\", \"deer\", \"dog\", \"frog\", \"horse\", \"ship\", \"truck\")"
      ],
      "metadata": {
        "id": "iO4SfOmoJL9R"
      },
      "execution_count": 4,
      "outputs": []
    },
    {
      "cell_type": "code",
      "source": [
        "# データを作る。\n",
        "train_dataloader = DataLoader(train_dataset, batch_size=32, shuffle=True)\n",
        "validation_dataloader = DataLoader(vilidation_dataset, batch_size=32, shuffle=False)"
      ],
      "metadata": {
        "id": "0H67D7xLJL9S"
      },
      "execution_count": 5,
      "outputs": []
    },
    {
      "cell_type": "code",
      "source": [
        "# 画像とラベルを抜いてみる。\n",
        "data_iter = iter(train_dataloader)\n",
        "imgs, labels = next(data_iter)\n",
        "print(labels)"
      ],
      "metadata": {
        "colab": {
          "base_uri": "https://localhost:8080/"
        },
        "outputId": "ad78867e-4ff8-4370-cff3-c5e2a921eba3",
        "id": "zw7LiH2AJL9S"
      },
      "execution_count": 6,
      "outputs": [
        {
          "output_type": "stream",
          "name": "stdout",
          "text": [
            "tensor([3, 0, 2, 3, 5, 8, 1, 1, 1, 4, 0, 0, 9, 5, 5, 1, 5, 7, 2, 1, 1, 6, 3, 5,\n",
            "        4, 5, 1, 2, 6, 6, 2, 4])\n"
          ]
        }
      ]
    },
    {
      "cell_type": "code",
      "source": [
        "imgs.size() # ミニバッチのサイズ、チャネル、縦、横という順番であると確認。"
      ],
      "metadata": {
        "colab": {
          "base_uri": "https://localhost:8080/"
        },
        "outputId": "24c016b5-64ec-40bb-e84f-131ba44b21a4",
        "id": "ZGRa7S_iJL9T"
      },
      "execution_count": 7,
      "outputs": [
        {
          "output_type": "execute_result",
          "data": {
            "text/plain": [
              "torch.Size([32, 3, 32, 32])"
            ]
          },
          "metadata": {},
          "execution_count": 7
        }
      ]
    },
    {
      "cell_type": "code",
      "source": [
        "# 画像を表示する。\n",
        "img = imgs[0]\n",
        "img_permute = img.permute(1, 2, 0) # チャネルラストに変更\n",
        "img_permute = 0.5 * img_permute + 0.5 # 画像の明るさをシフト\n",
        "img_permute = np.clip(img_permute, 0, 1) # 一応0から1の範囲を超えないようにしている。多分安全策。\n",
        "plt.imshow(img_permute)"
      ],
      "metadata": {
        "colab": {
          "base_uri": "https://localhost:8080/",
          "height": 448
        },
        "outputId": "ee66fb3a-ed5e-4145-8073-136b66730fe5",
        "id": "0sfEszPPJL9T"
      },
      "execution_count": 8,
      "outputs": [
        {
          "output_type": "execute_result",
          "data": {
            "text/plain": [
              "<matplotlib.image.AxesImage at 0x7f04d36b5850>"
            ]
          },
          "metadata": {},
          "execution_count": 8
        },
        {
          "output_type": "display_data",
          "data": {
            "text/plain": [
              "<Figure size 640x480 with 1 Axes>"
            ],
            "image/png": "[encoded data removed]"
          },
          "metadata": {}
        }
      ]
    },
    {
      "cell_type": "code",
      "source": [
        "# CNNを実装。\n",
        "class CNN(nn.Module):\n",
        "    def __init__(self, num_classes):\n",
        "        super().__init__()\n",
        "        self.features = nn.Sequential(\n",
        "            nn.Conv2d(in_channels=3, out_channels=64, kernel_size=5, padding=2), # RGBなのでin_channelsは3、畳み込むたびに2ずつ画像が小さくなるため、2補う。\n",
        "            nn.ReLU(inplace=True),\n",
        "            nn.MaxPool2d(kernel_size=2), # 32×32の画像が16×16になる。\n",
        "            nn.Conv2d(in_channels=64, out_channels=128, kernel_size=3, padding=1), # RGBなのでin_channelsは3、畳み込むたびに2ずつ画像が小さくなるため、2補う。\n",
        "            nn.ReLU(inplace=True),\n",
        "            nn.MaxPool2d(kernel_size=2), # 16×16の画像が8×8になる。\n",
        "            nn.Conv2d(in_channels=128, out_channels=256, kernel_size=3, padding=1), # RGBなのでin_channelsは3、畳み込むたびに2ずつ画像が小さくなるため、2補う。\n",
        "            nn.ReLU(inplace=True),\n",
        "            nn.MaxPool2d(kernel_size=2), # 8×8の画像が4×4になる。\n",
        "            nn.Conv2d(in_channels=256, out_channels=128, kernel_size=3, padding=1), # RGBなのでin_channelsは3、畳み込むたびに2ずつ画像が小さくなるため、2補う。\n",
        "            nn.ReLU(inplace=True),\n",
        "        )\n",
        "        self.classifier = nn.Linear(in_features=4 * 4 * 128, out_features=num_classes) # in_featuresには1次元ベクトルにして渡す。4×4が128個ある。out_featuresは何個に分類するか。\n",
        "    def forward(self, x):\n",
        "        x = self.features(x)\n",
        "        x = x.view(x.size(0), -1) # x.size(0)はバッチ数を表す。(32, 4×4×128)という形になる。\n",
        "        x = self.classifier(x)\n",
        "        return x"
      ],
      "metadata": {
        "id": "2oXr3L3-JL9U"
      },
      "execution_count": 9,
      "outputs": []
    },
    {
      "cell_type": "code",
      "source": [
        "# modelを作成\n",
        "model = CNN(10) # 10はクラス数\n",
        "model.to(device)"
      ],
      "metadata": {
        "outputId": "8478b579-d775-4736-bd7b-b6f4d833d004",
        "colab": {
          "base_uri": "https://localhost:8080/"
        },
        "id": "WNfgc_uQJL9V"
      },
      "execution_count": 10,
      "outputs": [
        {
          "output_type": "execute_result",
          "data": {
            "text/plain": [
              "CNN(\n",
              "  (features): Sequential(\n",
              "    (0): Conv2d(3, 64, kernel_size=(5, 5), stride=(1, 1), padding=(2, 2))\n",
              "    (1): ReLU(inplace=True)\n",
              "    (2): MaxPool2d(kernel_size=2, stride=2, padding=0, dilation=1, ceil_mode=False)\n",
              "    (3): Conv2d(64, 128, kernel_size=(3, 3), stride=(1, 1), padding=(1, 1))\n",
              "    (4): ReLU(inplace=True)\n",
              "    (5): MaxPool2d(kernel_size=2, stride=2, padding=0, dilation=1, ceil_mode=False)\n",
              "    (6): Conv2d(128, 256, kernel_size=(3, 3), stride=(1, 1), padding=(1, 1))\n",
              "    (7): ReLU(inplace=True)\n",
              "    (8): MaxPool2d(kernel_size=2, stride=2, padding=0, dilation=1, ceil_mode=False)\n",
              "    (9): Conv2d(256, 128, kernel_size=(3, 3), stride=(1, 1), padding=(1, 1))\n",
              "    (10): ReLU(inplace=True)\n",
              "  )\n",
              "  (classifier): Linear(in_features=2048, out_features=10, bias=True)\n",
              ")"
            ]
          },
          "metadata": {},
          "execution_count": 10
        }
      ]
    },
    {
      "cell_type": "code",
      "source": [
        "# 損失関数とoptimizerを設定\n",
        "criterion = nn.CrossEntropyLoss()\n",
        "optimizer = optim.Adam(model.parameters(), lr=0.001, weight_decay=5e-4) # weight_decayで重みづけが大きくなりすぎないようにしている。"
      ],
      "metadata": {
        "id": "uc7LZaBTJL9V"
      },
      "execution_count": 11,
      "outputs": []
    },
    {
      "cell_type": "code",
      "source": [
        "# 学習のループ\n",
        "num_epochs = 15\n",
        "losses = []\n",
        "accs = []\n",
        "val_losses = []\n",
        "val_accs = []\n",
        "for epoch in range(num_epochs):\n",
        "    running_loss = 0.0\n",
        "    running_acc = 0.0\n",
        "    for imgs, labels, in train_dataloader:\n",
        "        imgs = imgs.to(device)\n",
        "        labels = labels.to(device)\n",
        "        optimizer.zero_grad() # 勾配の初期化\n",
        "        output = model(imgs)\n",
        "        loss = criterion(output, labels)\n",
        "        loss.backward()\n",
        "        running_loss += loss.item()\n",
        "        pred = torch.argmax(output, dim=1)\n",
        "        running_acc += torch.mean(pred.eq(labels).float())\n",
        "        optimizer.step()\n",
        "    running_loss /= len(train_dataloader)\n",
        "    running_acc /= len(train_dataloader)\n",
        "    losses.append(running_loss)\n",
        "    #accs.append(running_acc)\n",
        "    accs.append(running_acc.cpu())\n",
        "#\n",
        "# validationのループ\n",
        "#\n",
        "    val_running_loss = 0.0\n",
        "    val_running_acc = 0.0\n",
        "    for val_imgs, val_labels in validation_dataloader:\n",
        "        val_imgs = val_imgs.to(device)\n",
        "        val_labels = val_labels.to(device)\n",
        "        val_output = model(val_imgs)\n",
        "        val_loss = criterion(val_output, val_labels)\n",
        "        val_running_loss += val_loss.item()\n",
        "        val_pred = torch.argmax(val_output, dim=1)\n",
        "        val_running_acc += torch.mean(val_pred.eq(val_labels).float())\n",
        "    val_running_loss /= len(validation_dataloader)\n",
        "    val_running_acc /= len(validation_dataloader)\n",
        "    val_losses.append(val_running_loss)\n",
        "    #val_accs.append(val_running_acc)\n",
        "    val_accs.append(val_running_acc.cpu())\n",
        "    print(\"epoch: {}, loss: {}, acc: {}, \\\n",
        "     val loss: {}, val acc: {}\".format(epoch, running_loss, running_acc, val_running_loss, val_running_acc))"
      ],
      "metadata": {
        "outputId": "5e7fd2c1-ff27-4bd3-f563-a0931338d9b3",
        "colab": {
          "base_uri": "https://localhost:8080/"
        },
        "id": "yF6APnpjJL9W"
      },
      "execution_count": 12,
      "outputs": [
        {
          "output_type": "stream",
          "name": "stdout",
          "text": [
            "epoch: 0, loss: 1.4460867024047666, acc: 0.47696736454963684,      val acc: 1.2206967198810639\n",
            "epoch: 1, loss: 1.0454433683165356, acc: 0.6291986703872681,      val acc: 0.9912019246302474\n",
            "epoch: 2, loss: 0.8863558463194549, acc: 0.6888195872306824,      val acc: 0.8276344515835515\n",
            "epoch: 3, loss: 0.7978033497023872, acc: 0.7219489812850952,      val acc: 0.7656442710576347\n",
            "epoch: 4, loss: 0.736505380194689, acc: 0.7424024343490601,      val acc: 0.7602652785496209\n",
            "epoch: 5, loss: 0.6949385602696919, acc: 0.7577974796295166,      val acc: 0.7064459836140228\n",
            "epoch: 6, loss: 0.665695853145246, acc: 0.7690938711166382,      val acc: 0.6442590408717481\n",
            "epoch: 7, loss: 0.6378361296363924, acc: 0.7763316035270691,      val acc: 0.71035734766398\n",
            "epoch: 8, loss: 0.6201758546491349, acc: 0.7833693027496338,      val acc: 0.672555040818053\n",
            "epoch: 9, loss: 0.6050845641054103, acc: 0.7894273996353149,      val acc: 0.6661770370440742\n",
            "epoch: 10, loss: 0.5874913849332206, acc: 0.7943058013916016,      val acc: 0.6726837764723232\n",
            "epoch: 11, loss: 0.5752273767767087, acc: 0.7991642951965332,      val acc: 0.6561050962525815\n",
            "epoch: 12, loss: 0.5612740901442422, acc: 0.8048024773597717,      val acc: 0.6179152652621269\n",
            "epoch: 13, loss: 0.5537363956095466, acc: 0.806302011013031,      val acc: 0.6126735700062289\n",
            "epoch: 14, loss: 0.5488276722258814, acc: 0.8086212277412415,      val acc: 0.6057220743582271\n"
          ]
        }
      ]
    },
    {
      "cell_type": "code",
      "source": [
        "plt.style.use(\"ggplot\")\n",
        "plt.plot(losses, label=\"train loss\")\n",
        "plt.plot(val_losses, label=\"val loss\")\n",
        "plt.legend()"
      ],
      "metadata": {
        "outputId": "01bab6c8-b356-4900-da85-048032b8a99f",
        "colab": {
          "base_uri": "https://localhost:8080/",
          "height": 448
        },
        "id": "vZlDi-nHJL9X"
      },
      "execution_count": 13,
      "outputs": [
        {
          "output_type": "execute_result",
          "data": {
            "text/plain": [
              "<matplotlib.legend.Legend at 0x7f04d37204d0>"
            ]
          },
          "metadata": {},
          "execution_count": 13
        },
        {
          "output_type": "display_data",
          "data": {
            "text/plain": [
              "<Figure size 640x480 with 1 Axes>"
            ],
            "image/png": "[encoded data removed]"
          },
          "metadata": {}
        }
      ]
    },
    {
      "cell_type": "code",
      "source": [
        "plt.plot([accs_.cpu() for accs_ in accs], label=\"train acc\")\n",
        "plt.plot([accs_.cpu() for accs_ in val_accs], label=\"validation acc\")\n",
        "plt.legend()"
      ],
      "metadata": {
        "outputId": "c89d9a23-1340-4c9f-f108-8552010fe96f",
        "colab": {
          "base_uri": "https://localhost:8080/",
          "height": 448
        },
        "id": "a8-QdF6aJL9X"
      },
      "execution_count": 14,
      "outputs": [
        {
          "output_type": "execute_result",
          "data": {
            "text/plain": [
              "<matplotlib.legend.Legend at 0x7f04dab6d310>"
            ]
          },
          "metadata": {},
          "execution_count": 14
        },
        {
          "output_type": "display_data",
          "data": {
            "text/plain": [
              "<Figure size 640x480 with 1 Axes>"
            ],
            "image/png": "[encoded data removed]"
          },
          "metadata": {}
        }
      ]
    }
  ]
}