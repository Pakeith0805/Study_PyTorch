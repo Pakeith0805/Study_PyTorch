{
  "nbformat": 4,
  "nbformat_minor": 0,
  "metadata": {
    "colab": {
      "provenance": [],
      "gpuType": "T4",
      "authorship_tag": "ABX9TyNJnhDaLFtEjN8jsveEseFm",
      "include_colab_link": true
    },
    "kernelspec": {
      "name": "python3",
      "display_name": "Python 3"
    },
    "language_info": {
      "name": "python"
    },
    "accelerator": "GPU"
  },
  "cells": [
    {
      "cell_type": "markdown",
      "metadata": {
        "id": "view-in-github",
        "colab_type": "text"
      },
      "source": [
        "<a href=\"https://colab.research.google.com/github/Pakeith0805/Study_PyTorch/blob/main/main.ipynb\" target=\"_parent\"><img src=\"https://colab.research.google.com/assets/colab-badge.svg\" alt=\"Open In Colab\"/></a>"
      ]
    },
    {
      "cell_type": "markdown",
      "source": [
        "# 簡単な使い方"
      ],
      "metadata": {
        "id": "g1tY1F6WxlWG"
      }
    },
    {
      "cell_type": "markdown",
      "source": [
        "機械学習・深層学習のデータは深層学習データであるため、Tensorを利用する。\n",
        "\n",
        "- 0次元のTensor：スカラー\n",
        "- 1次元のTensor：ベクトル\n",
        "- 2次元のTensor：行列"
      ],
      "metadata": {
        "id": "MjHAOt5fxqRY"
      }
    },
    {
      "cell_type": "code",
      "execution_count": null,
      "metadata": {
        "id": "mMYGQlY2aF30"
      },
      "outputs": [],
      "source": [
        "# import\n",
        "import torch\n",
        "import numpy as np\n",
        "import matplotlib.pyplot as plt\n",
        "%matplotlib inline"
      ]
    },
    {
      "cell_type": "markdown",
      "source": [
        "## Tensorの使い方"
      ],
      "metadata": {
        "id": "wTiB-BBk0WTo"
      }
    },
    {
      "cell_type": "code",
      "source": [
        "# tensorを作る\n",
        "arr_t = torch.tensor([10])\n",
        "# 型を表示\n",
        "print(\"型を表示：\", arr_t.dtype)\n",
        "# 浮動小数型でTensorを作る\n",
        "arr_t = torch.FloatTensor([10])\n",
        "print(\"型を表示：\", arr_t.dtype)"
      ],
      "metadata": {
        "id": "KBC-GQKxyEZV",
        "outputId": "e3dfa83b-ca37-4416-a366-3d3de0bbe8f6",
        "colab": {
          "base_uri": "https://localhost:8080/"
        }
      },
      "execution_count": null,
      "outputs": [
        {
          "output_type": "stream",
          "name": "stdout",
          "text": [
            "型を表示： torch.int64\n",
            "型を表示： torch.float32\n"
          ]
        }
      ]
    },
    {
      "cell_type": "code",
      "source": [
        "# numpyをtensor型に\n",
        "arr_n = np.arange(10)\n",
        "arr_t = torch.from_numpy(arr_n)\n",
        "print(\"型を表示：\", arr_t.dtype)"
      ],
      "metadata": {
        "id": "QPML8GFgyImS",
        "outputId": "b3f3d8c8-cf72-41ba-e72e-7ffaa23e23b1",
        "colab": {
          "base_uri": "https://localhost:8080/"
        }
      },
      "execution_count": null,
      "outputs": [
        {
          "output_type": "stream",
          "name": "stdout",
          "text": [
            "型を表示： torch.int64\n"
          ]
        }
      ]
    },
    {
      "cell_type": "code",
      "source": [
        "# 平均を求めるときは型に注意！\n",
        "torch.mean(arr_t)"
      ],
      "metadata": {
        "collapsed": true,
        "id": "1EQNdz94yv-z",
        "outputId": "e0553555-7dcf-41e4-8f63-e63e843f2cf9",
        "colab": {
          "base_uri": "https://localhost:8080/",
          "height": 181
        }
      },
      "execution_count": null,
      "outputs": [
        {
          "output_type": "error",
          "ename": "RuntimeError",
          "evalue": "mean(): could not infer output dtype. Input dtype must be either a floating point or complex dtype. Got: Long",
          "traceback": [
            "\u001b[0;31m---------------------------------------------------------------------------\u001b[0m",
            "\u001b[0;31mRuntimeError\u001b[0m                              Traceback (most recent call last)",
            "\u001b[0;32m<ipython-input-55-ba5e369c5060>\u001b[0m in \u001b[0;36m<cell line: 0>\u001b[0;34m()\u001b[0m\n\u001b[1;32m      1\u001b[0m \u001b[0;31m# 型に注意！\u001b[0m\u001b[0;34m\u001b[0m\u001b[0;34m\u001b[0m\u001b[0m\n\u001b[0;32m----> 2\u001b[0;31m \u001b[0mtorch\u001b[0m\u001b[0;34m.\u001b[0m\u001b[0mmean\u001b[0m\u001b[0;34m(\u001b[0m\u001b[0marr_t\u001b[0m\u001b[0;34m)\u001b[0m\u001b[0;34m\u001b[0m\u001b[0;34m\u001b[0m\u001b[0m\n\u001b[0m",
            "\u001b[0;31mRuntimeError\u001b[0m: mean(): could not infer output dtype. Input dtype must be either a floating point or complex dtype. Got: Long"
          ]
        }
      ]
    },
    {
      "cell_type": "code",
      "source": [
        "# 浮動小数型で作ろう。\n",
        "torch.mean(arr_t.float())"
      ],
      "metadata": {
        "id": "Tgvby17Hy4s6",
        "outputId": "92daf768-54f6-4ac8-e3b4-5fc4cc8c6c84",
        "colab": {
          "base_uri": "https://localhost:8080/"
        }
      },
      "execution_count": null,
      "outputs": [
        {
          "output_type": "execute_result",
          "data": {
            "text/plain": [
              "tensor(4.5000)"
            ]
          },
          "metadata": {},
          "execution_count": 56
        }
      ]
    },
    {
      "cell_type": "code",
      "source": [
        "# 大きい配列を作る\n",
        "arr_t2 = torch.ones([10, 20], dtype=torch.float32)\n",
        "print(arr_t2)"
      ],
      "metadata": {
        "collapsed": true,
        "id": "DrXXkLPVy_1n",
        "outputId": "6a079eed-9c11-411c-d690-e4b860e33457",
        "colab": {
          "base_uri": "https://localhost:8080/"
        }
      },
      "execution_count": null,
      "outputs": [
        {
          "output_type": "stream",
          "name": "stdout",
          "text": [
            "tensor([[1., 1., 1., 1., 1., 1., 1., 1., 1., 1., 1., 1., 1., 1., 1., 1., 1., 1.,\n",
            "         1., 1.],\n",
            "        [1., 1., 1., 1., 1., 1., 1., 1., 1., 1., 1., 1., 1., 1., 1., 1., 1., 1.,\n",
            "         1., 1.],\n",
            "        [1., 1., 1., 1., 1., 1., 1., 1., 1., 1., 1., 1., 1., 1., 1., 1., 1., 1.,\n",
            "         1., 1.],\n",
            "        [1., 1., 1., 1., 1., 1., 1., 1., 1., 1., 1., 1., 1., 1., 1., 1., 1., 1.,\n",
            "         1., 1.],\n",
            "        [1., 1., 1., 1., 1., 1., 1., 1., 1., 1., 1., 1., 1., 1., 1., 1., 1., 1.,\n",
            "         1., 1.],\n",
            "        [1., 1., 1., 1., 1., 1., 1., 1., 1., 1., 1., 1., 1., 1., 1., 1., 1., 1.,\n",
            "         1., 1.],\n",
            "        [1., 1., 1., 1., 1., 1., 1., 1., 1., 1., 1., 1., 1., 1., 1., 1., 1., 1.,\n",
            "         1., 1.],\n",
            "        [1., 1., 1., 1., 1., 1., 1., 1., 1., 1., 1., 1., 1., 1., 1., 1., 1., 1.,\n",
            "         1., 1.],\n",
            "        [1., 1., 1., 1., 1., 1., 1., 1., 1., 1., 1., 1., 1., 1., 1., 1., 1., 1.,\n",
            "         1., 1.],\n",
            "        [1., 1., 1., 1., 1., 1., 1., 1., 1., 1., 1., 1., 1., 1., 1., 1., 1., 1.,\n",
            "         1., 1.]])\n"
          ]
        }
      ]
    },
    {
      "cell_type": "code",
      "source": [
        "# ベクトル計算もできる。全要素に1を足す。\n",
        "arr_t2 + 1"
      ],
      "metadata": {
        "collapsed": true,
        "id": "7WuW1xkbzUHJ",
        "outputId": "893113e2-3f1a-4e3c-a1ab-a24ab053d0ba",
        "colab": {
          "base_uri": "https://localhost:8080/"
        }
      },
      "execution_count": null,
      "outputs": [
        {
          "output_type": "execute_result",
          "data": {
            "text/plain": [
              "tensor([[2., 2., 2., 2., 2., 2., 2., 2., 2., 2., 2., 2., 2., 2., 2., 2., 2., 2.,\n",
              "         2., 2.],\n",
              "        [2., 2., 2., 2., 2., 2., 2., 2., 2., 2., 2., 2., 2., 2., 2., 2., 2., 2.,\n",
              "         2., 2.],\n",
              "        [2., 2., 2., 2., 2., 2., 2., 2., 2., 2., 2., 2., 2., 2., 2., 2., 2., 2.,\n",
              "         2., 2.],\n",
              "        [2., 2., 2., 2., 2., 2., 2., 2., 2., 2., 2., 2., 2., 2., 2., 2., 2., 2.,\n",
              "         2., 2.],\n",
              "        [2., 2., 2., 2., 2., 2., 2., 2., 2., 2., 2., 2., 2., 2., 2., 2., 2., 2.,\n",
              "         2., 2.],\n",
              "        [2., 2., 2., 2., 2., 2., 2., 2., 2., 2., 2., 2., 2., 2., 2., 2., 2., 2.,\n",
              "         2., 2.],\n",
              "        [2., 2., 2., 2., 2., 2., 2., 2., 2., 2., 2., 2., 2., 2., 2., 2., 2., 2.,\n",
              "         2., 2.],\n",
              "        [2., 2., 2., 2., 2., 2., 2., 2., 2., 2., 2., 2., 2., 2., 2., 2., 2., 2.,\n",
              "         2., 2.],\n",
              "        [2., 2., 2., 2., 2., 2., 2., 2., 2., 2., 2., 2., 2., 2., 2., 2., 2., 2.,\n",
              "         2., 2.],\n",
              "        [2., 2., 2., 2., 2., 2., 2., 2., 2., 2., 2., 2., 2., 2., 2., 2., 2., 2.,\n",
              "         2., 2.]])"
            ]
          },
          "metadata": {},
          "execution_count": 60
        }
      ]
    },
    {
      "cell_type": "code",
      "source": [
        "# numpyに変える。\n",
        "arr = arr_t2.numpy()\n",
        "print(arr)"
      ],
      "metadata": {
        "collapsed": true,
        "id": "Vl6yjolSzgAr",
        "outputId": "a88a3a74-e5c6-4221-8fa9-d0f66bffe765",
        "colab": {
          "base_uri": "https://localhost:8080/"
        }
      },
      "execution_count": null,
      "outputs": [
        {
          "output_type": "stream",
          "name": "stdout",
          "text": [
            "[[1. 1. 1. 1. 1. 1. 1. 1. 1. 1. 1. 1. 1. 1. 1. 1. 1. 1. 1. 1.]\n",
            " [1. 1. 1. 1. 1. 1. 1. 1. 1. 1. 1. 1. 1. 1. 1. 1. 1. 1. 1. 1.]\n",
            " [1. 1. 1. 1. 1. 1. 1. 1. 1. 1. 1. 1. 1. 1. 1. 1. 1. 1. 1. 1.]\n",
            " [1. 1. 1. 1. 1. 1. 1. 1. 1. 1. 1. 1. 1. 1. 1. 1. 1. 1. 1. 1.]\n",
            " [1. 1. 1. 1. 1. 1. 1. 1. 1. 1. 1. 1. 1. 1. 1. 1. 1. 1. 1. 1.]\n",
            " [1. 1. 1. 1. 1. 1. 1. 1. 1. 1. 1. 1. 1. 1. 1. 1. 1. 1. 1. 1.]\n",
            " [1. 1. 1. 1. 1. 1. 1. 1. 1. 1. 1. 1. 1. 1. 1. 1. 1. 1. 1. 1.]\n",
            " [1. 1. 1. 1. 1. 1. 1. 1. 1. 1. 1. 1. 1. 1. 1. 1. 1. 1. 1. 1.]\n",
            " [1. 1. 1. 1. 1. 1. 1. 1. 1. 1. 1. 1. 1. 1. 1. 1. 1. 1. 1. 1.]\n",
            " [1. 1. 1. 1. 1. 1. 1. 1. 1. 1. 1. 1. 1. 1. 1. 1. 1. 1. 1. 1.]]\n"
          ]
        }
      ]
    },
    {
      "cell_type": "code",
      "source": [
        "# graphを作る。\n",
        "x = torch.linspace(0, 10, 100) # 0から10までを100個に分ける。\n",
        "y = x ** 2\n",
        "plt.plot(x, y)"
      ],
      "metadata": {
        "collapsed": true,
        "id": "fasoNUX_zpJb",
        "outputId": "546dd367-8074-452c-e6b2-98d72e02451a",
        "colab": {
          "base_uri": "https://localhost:8080/",
          "height": 448
        }
      },
      "execution_count": null,
      "outputs": [
        {
          "output_type": "execute_result",
          "data": {
            "text/plain": [
              "[<matplotlib.lines.Line2D at 0x7cd9e14d2390>]"
            ]
          },
          "metadata": {},
          "execution_count": 63
        },
        {
          "output_type": "display_data",
          "data": {
            "text/plain": [
              "<Figure size 640x480 with 1 Axes>"
            ],
            "image/png": "[encoded data removed]"
          },
          "metadata": {}
        }
      ]
    },
    {
      "cell_type": "code",
      "source": [
        "# 配列の整形にはviewを使う\n",
        "arr_t3 = torch.zeros([10])\n",
        "print(arr_t3)\n",
        "print(arr_t3.view(5, 2)) # 5×2に整形\n",
        "print(arr_t3.view(-1, 2)) # 片方-1にすると、自動的に調節してくれる。\n",
        "arr_t4 = arr_t3.view(5, 2)"
      ],
      "metadata": {
        "id": "UsngsdK1z2cJ",
        "outputId": "4f209a39-7e2a-41d8-c6ce-4d7df8626107",
        "colab": {
          "base_uri": "https://localhost:8080/"
        }
      },
      "execution_count": null,
      "outputs": [
        {
          "output_type": "stream",
          "name": "stdout",
          "text": [
            "tensor([0., 0., 0., 0., 0., 0., 0., 0., 0., 0.])\n",
            "tensor([[0., 0.],\n",
            "        [0., 0.],\n",
            "        [0., 0.],\n",
            "        [0., 0.],\n",
            "        [0., 0.]])\n",
            "tensor([[0., 0.],\n",
            "        [0., 0.],\n",
            "        [0., 0.],\n",
            "        [0., 0.],\n",
            "        [0., 0.]])\n"
          ]
        }
      ]
    },
    {
      "cell_type": "code",
      "source": [
        "# 配列の形状の確認にはsizeを使う\n",
        "arr_t4.size()"
      ],
      "metadata": {
        "id": "KAI-QtjJ0lvz",
        "outputId": "84b8dfd2-bba1-494a-d70a-a63fc90c11f1",
        "colab": {
          "base_uri": "https://localhost:8080/"
        }
      },
      "execution_count": null,
      "outputs": [
        {
          "output_type": "execute_result",
          "data": {
            "text/plain": [
              "torch.Size([5, 2])"
            ]
          },
          "metadata": {},
          "execution_count": 74
        }
      ]
    },
    {
      "cell_type": "code",
      "source": [
        "# 配列のスライス\n",
        "arr_t4[1:3]"
      ],
      "metadata": {
        "id": "0G2IpiH71H5e",
        "outputId": "96de3319-3649-4c7e-a1eb-a5c7cefd4fc2",
        "colab": {
          "base_uri": "https://localhost:8080/"
        }
      },
      "execution_count": null,
      "outputs": [
        {
          "output_type": "execute_result",
          "data": {
            "text/plain": [
              "tensor([[0., 0.],\n",
              "        [0., 0.]])"
            ]
          },
          "metadata": {},
          "execution_count": 76
        }
      ]
    },
    {
      "cell_type": "markdown",
      "source": [
        "## 自動微分"
      ],
      "metadata": {
        "id": "tvgLSmQKgFC2"
      }
    },
    {
      "cell_type": "code",
      "source": [
        "# 自動微分\n",
        "x = torch.tensor([2], dtype=torch.float32, requires_grad=True) # requires_gradは勾配計算をするかどうか。\n",
        "y = 3 * x ** 3\n",
        "y.backward() # 誤差逆伝播\n",
        "print(x.grad) #微分結果を出力"
      ],
      "metadata": {
        "id": "aG1Iwd9jgRAO",
        "outputId": "b7d7375d-279b-4ab5-8bea-9f7f7a1bc196",
        "colab": {
          "base_uri": "https://localhost:8080/"
        }
      },
      "execution_count": null,
      "outputs": [
        {
          "output_type": "stream",
          "name": "stdout",
          "text": [
            "tensor([36.])\n"
          ]
        }
      ]
    },
    {
      "cell_type": "code",
      "source": [
        "# 複数変数でも可能\n",
        "x1 = torch.tensor([4], dtype=torch.float32, requires_grad=True)\n",
        "x2 = torch.tensor([2], dtype=torch.float32, requires_grad=True)\n",
        "y = 2 * x1 ** 2 + 3 * x2 ** 3\n",
        "y.backward()\n",
        "print(x1.grad)\n",
        "print(x2.grad)"
      ],
      "metadata": {
        "id": "KGRIOXrvgo_r",
        "outputId": "c5b0e745-7446-447a-f68b-411257a50f37",
        "colab": {
          "base_uri": "https://localhost:8080/"
        }
      },
      "execution_count": null,
      "outputs": [
        {
          "output_type": "stream",
          "name": "stdout",
          "text": [
            "tensor([16.])\n",
            "tensor([36.])\n"
          ]
        }
      ]
    },
    {
      "cell_type": "markdown",
      "source": [
        "# PyTorchによる機械学習"
      ],
      "metadata": {
        "id": "J-_bRn8hhyRm"
      }
    },
    {
      "cell_type": "markdown",
      "source": [
        "1. 入力データ・教師データを用意\n",
        "2. モデルを作成\n",
        "3. 予測値計算(順伝播)、損失関数、勾配計算\n",
        "4. 重みを更新\n",
        "\n",
        "今回は、MNISTと呼ばれる0～9の手書きの数字のデータセットを用いる。"
      ],
      "metadata": {
        "id": "g9Ufe6Qekb3X"
      }
    },
    {
      "cell_type": "markdown",
      "source": [
        "## ひとまず予測を出すまで"
      ],
      "metadata": {
        "id": "UVxgNcXSzy_C"
      }
    },
    {
      "cell_type": "code",
      "source": [
        "from ast import increment_lineno\n",
        "import torch\n",
        "import torch.nn as nn\n",
        "import torch.optim as optim\n",
        "import matplotlib.pyplot as plt\n",
        "import numpy as np\n",
        "%matplotlib inline\n",
        "plt.style.use(\"ggplot\")"
      ],
      "metadata": {
        "id": "VNaIxjJxoVY7"
      },
      "execution_count": null,
      "outputs": []
    },
    {
      "cell_type": "code",
      "source": [
        "# 生成される乱数の値を固定\n",
        "torch.manual_seed(123)"
      ],
      "metadata": {
        "id": "4tqgCKZcoyeI",
        "outputId": "dab9e43d-f5e6-4481-eaf8-cd2410770e50",
        "colab": {
          "base_uri": "https://localhost:8080/"
        }
      },
      "execution_count": null,
      "outputs": [
        {
          "output_type": "execute_result",
          "data": {
            "text/plain": [
              "<torch._C.Generator at 0x7ec910e9cdb0>"
            ]
          },
          "metadata": {},
          "execution_count": 64
        }
      ]
    },
    {
      "cell_type": "code",
      "source": [
        "# いくつかの数を定義\n",
        "a = 3\n",
        "b = 2\n",
        "x = torch.linspace(0, 5, 100).view(100, 1) # 100はバッチの次元、1は入力データの次元\n",
        "eps = torch.randn(100, 1) # 乱数\n",
        "y = a * x + b + eps"
      ],
      "metadata": {
        "id": "SwT0ddUEo1Ob"
      },
      "execution_count": null,
      "outputs": []
    },
    {
      "cell_type": "code",
      "source": [
        "# グラフを描く\n",
        "plt.scatter(x, y)"
      ],
      "metadata": {
        "collapsed": true,
        "id": "E3-MskGsqTP4",
        "outputId": "d6e01983-543d-4f53-9c02-13c102778275",
        "colab": {
          "base_uri": "https://localhost:8080/",
          "height": 448
        }
      },
      "execution_count": null,
      "outputs": [
        {
          "output_type": "execute_result",
          "data": {
            "text/plain": [
              "<matplotlib.collections.PathCollection at 0x7ec819523210>"
            ]
          },
          "metadata": {},
          "execution_count": 66
        },
        {
          "output_type": "display_data",
          "data": {
            "text/plain": [
              "<Figure size 640x480 with 1 Axes>"
            ],
            "image/png": "[encoded data removed]"
          },
          "metadata": {}
        }
      ]
    },
    {
      "cell_type": "code",
      "source": [
        "# 線形回帰のクラスを作成\n",
        "class LR(nn.Module): # nn.Moduleを継承。PyTorchにおいて、ニューラルネットワークの基盤となるクラス。\n",
        "    def __init__(self): # __init__は変数の初期化。\n",
        "        super().__init__()\n",
        "        self.linear = nn.Linear(in_features=1, out_features=1) # 変数を定義。initの中で変数を定義してる。多分。\n",
        "    def forward(self, x): # ここはforwardという名前でなければいけない！\n",
        "        output = self.linear(x)\n",
        "        return output"
      ],
      "metadata": {
        "id": "oZca8wi-qWjH"
      },
      "execution_count": null,
      "outputs": []
    },
    {
      "cell_type": "code",
      "source": [
        "# LRクラスのインスタンス、modelを作成。\n",
        "model = LR()"
      ],
      "metadata": {
        "id": "nYhNJyzLrNZu"
      },
      "execution_count": null,
      "outputs": []
    },
    {
      "cell_type": "code",
      "source": [
        "# modelに入れるための変数x_testを定義\n",
        "x_test = torch.tensor([[1.0], [2.0]])"
      ],
      "metadata": {
        "id": "g8L2gf5ErOp0"
      },
      "execution_count": null,
      "outputs": []
    },
    {
      "cell_type": "code",
      "source": [
        "# 普通のクラスだとこういう書き方はできないが、LRはクラスnn.Moduleを継承しているため、自動的にforwardメソッドが実行される。\n",
        "model(x_test)"
      ],
      "metadata": {
        "id": "lqmVPuh-rTDP",
        "outputId": "f2fba238-ca4d-4817-9c5f-0cc57a251ba6",
        "colab": {
          "base_uri": "https://localhost:8080/"
        }
      },
      "execution_count": null,
      "outputs": [
        {
          "output_type": "execute_result",
          "data": {
            "text/plain": [
              "tensor([[-0.6505],\n",
              "        [-1.4166]], grad_fn=<AddmmBackward0>)"
            ]
          },
          "metadata": {},
          "execution_count": 71
        }
      ]
    },
    {
      "cell_type": "code",
      "source": [
        "# 二つ目の変数を定義し、modelに入れる\n",
        "x2 = torch.linspace(0, 3, 100).view(100, 1)\n",
        "y_pred = model(x2)"
      ],
      "metadata": {
        "id": "cpg8styyrY03"
      },
      "execution_count": null,
      "outputs": []
    },
    {
      "cell_type": "code",
      "source": [
        "# グラフを描画\n",
        "plt.plot(x2, y_pred.detach(), label=\"prediction\") # グラフを描画する際には勾配計算の能力を取り外しておく必要がある。それがdetach()\n",
        "plt.scatter(x, y, label=\"data\")\n",
        "plt.legend()"
      ],
      "metadata": {
        "id": "cSRzT2fSzD93",
        "outputId": "8071b6a0-f11d-41d0-b668-cdcfbc1f484c",
        "colab": {
          "base_uri": "https://localhost:8080/",
          "height": 448
        }
      },
      "execution_count": null,
      "outputs": [
        {
          "output_type": "execute_result",
          "data": {
            "text/plain": [
              "<matplotlib.legend.Legend at 0x7ec81950d310>"
            ]
          },
          "metadata": {},
          "execution_count": 73
        },
        {
          "output_type": "display_data",
          "data": {
            "text/plain": [
              "<Figure size 640x480 with 1 Axes>"
            ],
            "image/png": "[encoded data removed]"
          },
          "metadata": {}
        }
      ]
    },
    {
      "cell_type": "markdown",
      "source": [
        "## 損失関数、optimizerを使う"
      ],
      "metadata": {
        "id": "KFafyL4yz4rX"
      }
    },
    {
      "cell_type": "code",
      "source": [
        "criterion = nn.MSELoss()\n",
        "optimizer = optim.SGD(model.parameters(), lr=0.001)"
      ],
      "metadata": {
        "id": "Xt2aydplz7lf"
      },
      "execution_count": null,
      "outputs": []
    },
    {
      "cell_type": "code",
      "source": [
        "# 損失関数を保存しておくリストを作る。\n",
        "losses = []\n",
        "num_epoch = 500 # エポック数。モデルがトレーニングデータ全体を学習する回数。\n",
        "for epoch in range(num_epoch):\n",
        "    # 本来ならミニバッチの学習をするが、データセットが小さいためバッチの学習を行う。<--わからんが飛ばす\n",
        "    optimizer.zero_grad() # 勾配の初期化\n",
        "    y_pred = model(x) # modelにxを与え、予測値を計算\n",
        "    loss = criterion(y_pred, y) # 損失関数の計算\n",
        "    loss.backward() # 誤差逆伝播\n",
        "    optimizer.step() # 重みとバイアスを更新。ここで、modelそのものがよりよくなる。\n",
        "    if epoch % 10 == 0: # 10回刻みで出力\n",
        "        print(\"epoch: {}, loss: {}\".format(epoch, loss.item())) # .item()は変数の中身を取り出すメソッド。\n",
        "        losses.append(loss.item())\n"
      ],
      "metadata": {
        "id": "NBVIjMvu0NE7",
        "collapsed": true,
        "outputId": "e058908b-b611-41e5-e7cc-cfbf60ad18b1",
        "colab": {
          "base_uri": "https://localhost:8080/"
        }
      },
      "execution_count": null,
      "outputs": [
        {
          "output_type": "stream",
          "name": "stdout",
          "text": [
            "epoch: 0, loss: 156.7843017578125\n",
            "epoch: 10, loss: 108.7425765991211\n",
            "epoch: 20, loss: 75.5283203125\n",
            "epoch: 30, loss: 52.565086364746094\n",
            "epoch: 40, loss: 36.68894958496094\n",
            "epoch: 50, loss: 25.712499618530273\n",
            "epoch: 60, loss: 18.12348175048828\n",
            "epoch: 70, loss: 12.876379013061523\n",
            "epoch: 80, loss: 9.248371124267578\n",
            "epoch: 90, loss: 6.73973274230957\n",
            "epoch: 100, loss: 5.004983901977539\n",
            "epoch: 110, loss: 3.805264472961426\n",
            "epoch: 120, loss: 2.9754467010498047\n",
            "epoch: 130, loss: 2.401364326477051\n",
            "epoch: 140, loss: 2.004089593887329\n",
            "epoch: 150, loss: 1.7290531396865845\n",
            "epoch: 160, loss: 1.5385338068008423\n",
            "epoch: 170, loss: 1.406448245048523\n",
            "epoch: 180, loss: 1.3147624731063843\n",
            "epoch: 190, loss: 1.2510120868682861\n",
            "epoch: 200, loss: 1.2065790891647339\n",
            "epoch: 210, loss: 1.1755023002624512\n",
            "epoch: 220, loss: 1.1536643505096436\n",
            "epoch: 230, loss: 1.1382170915603638\n",
            "epoch: 240, loss: 1.1271913051605225\n",
            "epoch: 250, loss: 1.1192246675491333\n",
            "epoch: 260, loss: 1.1133769750595093\n",
            "epoch: 270, loss: 1.1089965105056763\n",
            "epoch: 280, loss: 1.1056345701217651\n",
            "epoch: 290, loss: 1.102979063987732\n",
            "epoch: 300, loss: 1.1008155345916748\n",
            "epoch: 310, loss: 1.0989947319030762\n",
            "epoch: 320, loss: 1.0974141359329224\n",
            "epoch: 330, loss: 1.0960028171539307\n",
            "epoch: 340, loss: 1.0947109460830688\n",
            "epoch: 350, loss: 1.0935050249099731\n",
            "epoch: 360, loss: 1.092361330986023\n",
            "epoch: 370, loss: 1.0912634134292603\n",
            "epoch: 380, loss: 1.0901998281478882\n",
            "epoch: 390, loss: 1.0891631841659546\n",
            "epoch: 400, loss: 1.088147759437561\n",
            "epoch: 410, loss: 1.0871498584747314\n",
            "epoch: 420, loss: 1.0861663818359375\n",
            "epoch: 430, loss: 1.0851963758468628\n",
            "epoch: 440, loss: 1.084237813949585\n",
            "epoch: 450, loss: 1.0832898616790771\n",
            "epoch: 460, loss: 1.0823521614074707\n",
            "epoch: 470, loss: 1.0814237594604492\n",
            "epoch: 480, loss: 1.0805050134658813\n",
            "epoch: 490, loss: 1.0795947313308716\n"
          ]
        }
      ]
    },
    {
      "cell_type": "code",
      "source": [
        "# グラフを表示。単調に下がっているため、うまく学習できていることが分かる。\n",
        "plt.plot(losses)"
      ],
      "metadata": {
        "collapsed": true,
        "id": "9aDjVpqx16Rg",
        "outputId": "2d6424fb-9b82-499c-91ac-d4ae7de9920a",
        "colab": {
          "base_uri": "https://localhost:8080/",
          "height": 448
        }
      },
      "execution_count": null,
      "outputs": [
        {
          "output_type": "execute_result",
          "data": {
            "text/plain": [
              "[<matplotlib.lines.Line2D at 0x7ec81940e750>]"
            ]
          },
          "metadata": {},
          "execution_count": 79
        },
        {
          "output_type": "display_data",
          "data": {
            "text/plain": [
              "<Figure size 640x480 with 1 Axes>"
            ],
            "image/png": "[encoded data removed]"
          },
          "metadata": {}
        }
      ]
    },
    {
      "cell_type": "code",
      "source": [
        "# 実際に、線形回帰をしてみる。\n",
        "x_test = torch.linspace(0, 5, 100).view(100, 1)\n",
        "y_test = model(x_test)\n",
        "plt.plot(x_test, y_test.detach(), label=\"prediction\")\n",
        "plt.scatter(x, y)\n",
        "plt.legend()"
      ],
      "metadata": {
        "id": "ZISzCquk2bVh",
        "outputId": "d7e3baeb-05a0-446e-fdec-136ce9dc118f",
        "colab": {
          "base_uri": "https://localhost:8080/",
          "height": 448
        }
      },
      "execution_count": null,
      "outputs": [
        {
          "output_type": "execute_result",
          "data": {
            "text/plain": [
              "<matplotlib.legend.Legend at 0x7ec81926f7d0>"
            ]
          },
          "metadata": {},
          "execution_count": 80
        },
        {
          "output_type": "display_data",
          "data": {
            "text/plain": [
              "<Figure size 640x480 with 1 Axes>"
            ],
            "image/png": "[encoded data removed]"
          },
          "metadata": {}
        }
      ]
    },
    {
      "cell_type": "markdown",
      "source": [
        "## MNISTで画像認識"
      ],
      "metadata": {
        "id": "_HEj999VCatm"
      }
    },
    {
      "cell_type": "markdown",
      "source": [
        "- MLPとは？→Multi Layer Perceptron\n",
        "\n",
        "線形層を多層に積み重ねたニューラルネットワーク。最も基本的。\n",
        "\n",
        "- ミニバッチ学習とは？\n",
        "- 60000枚の画像があったとき、100枚ずつに分けて学習するなど。小分けにして学習すること。"
      ],
      "metadata": {
        "id": "4ZJQmLqgCg8i"
      }
    },
    {
      "cell_type": "code",
      "source": [
        "import torch\n",
        "import torch.nn as nn\n",
        "import torch.optim as optim\n",
        "import numpy as np\n",
        "import matplotlib.pyplot as plt\n",
        "import seaborn as sns\n",
        "from torchvision import datasets, transforms\n",
        "from torch.utils.data import DataLoader"
      ],
      "metadata": {
        "id": "ivIUd7v7CgZi"
      },
      "execution_count": 29,
      "outputs": []
    },
    {
      "cell_type": "code",
      "source": [
        "# これで、deviceの値がcudaなら、GPUを使うことができる。cudaはGPUを使うための言語らしい。\n",
        "device = \"cuda\" if torch.cuda.is_available() else \"cpu\""
      ],
      "metadata": {
        "id": "8wDOYx6EEuTD"
      },
      "execution_count": 30,
      "outputs": []
    },
    {
      "cell_type": "code",
      "source": [
        "# 訓練時にはtrain=True、前処理をするときには、transform=transform\n",
        "transform = transforms.Compose([ # Composeは、関数の中にある前処理を上から順にやってくれる関数。\n",
        "    transforms.ToTensor() # 画像をテンソルに変換。\n",
        "])\n",
        "train_dataset = datasets.MNIST(root=\"./data\", train=True, download=True, transform=transform)"
      ],
      "metadata": {
        "collapsed": true,
        "id": "WuNJt55fFK7D"
      },
      "execution_count": 31,
      "outputs": []
    },
    {
      "cell_type": "code",
      "source": [
        "# ミニバッチの大きさを設定\n",
        "size_batches = 100\n",
        "# データセットを宣言。shuffle=Trueにすると、画像をランダムな順番で読みこんでくれる。\n",
        "train_dataloader = DataLoader(train_dataset, batch_size=size_batches, shuffle=True)"
      ],
      "metadata": {
        "id": "-EuKVZpAH8HD"
      },
      "execution_count": 32,
      "outputs": []
    },
    {
      "cell_type": "code",
      "source": [
        "# 試しに画像のデータを見てみよう。\n",
        "train_iter = iter(train_dataloader) # iterはiteratorの略。データを一個ずつ取り出すときに使う。\n",
        "imgs, labels = next(train_iter) #最初の100枚を読み込む\n",
        "print(imgs.size()) # 最初の100はミニバッチの次元数。100枚だから100。1はチャネル。グレースケールなので1。RGBなら3、透明度も入れたら4。28、28は画像の大きさ。28×28ピクセルの画像。\n",
        "print(labels) # 分類の教師データ。"
      ],
      "metadata": {
        "id": "WQ6-Gj-oIEzb",
        "outputId": "da1a6619-5e21-4773-8d5a-77e4a7ec3a4e",
        "colab": {
          "base_uri": "https://localhost:8080/"
        }
      },
      "execution_count": 36,
      "outputs": [
        {
          "output_type": "stream",
          "name": "stdout",
          "text": [
            "torch.Size([100, 1, 28, 28])\n",
            "tensor([0, 1, 8, 1, 8, 7, 6, 3, 9, 8, 4, 8, 4, 6, 1, 2, 1, 0, 2, 5, 4, 7, 5, 0,\n",
            "        9, 7, 9, 0, 1, 3, 3, 0, 2, 7, 7, 0, 1, 9, 7, 8, 4, 5, 8, 8, 3, 3, 3, 4,\n",
            "        2, 7, 4, 3, 7, 3, 1, 9, 7, 2, 5, 4, 1, 7, 9, 3, 7, 0, 1, 5, 5, 3, 7, 3,\n",
            "        2, 3, 8, 9, 3, 4, 0, 1, 0, 0, 7, 1, 8, 9, 5, 3, 7, 6, 3, 0, 6, 6, 1, 7,\n",
            "        5, 8, 4, 5])\n"
          ]
        }
      ]
    },
    {
      "cell_type": "code",
      "source": [
        "# 配列img[0]のうち、最初の画像をimgとして保存。\n",
        "img = imgs[0]"
      ],
      "metadata": {
        "id": "r1-rc00pKxt6"
      },
      "execution_count": 39,
      "outputs": []
    },
    {
      "cell_type": "code",
      "source": [
        "# 今はチャネルが最初に来ているが、最後に回す必要があるので軸の順番を変換。\n",
        "# なぜかというと、tensorは(C, H, W)の順を想定しているが、matplotは(H, W, C)の順を想定しているから。\n",
        "img_permute = img.permute(1, 2, 0)"
      ],
      "metadata": {
        "id": "Pc99NodyOtZ7"
      },
      "execution_count": 44,
      "outputs": []
    },
    {
      "cell_type": "code",
      "source": [
        "# 画像を表示。\n",
        "sns.heatmap(img_permute.numpy()[:, :, 0]) # tensorクラスではだめで、二次元の配列でなければだめ。"
      ],
      "metadata": {
        "id": "JpuIlj5BO3ru",
        "outputId": "2b55bd8e-6cd5-4a8d-f75f-3e232aaeb457",
        "colab": {
          "base_uri": "https://localhost:8080/",
          "height": 453
        }
      },
      "execution_count": 48,
      "outputs": [
        {
          "output_type": "execute_result",
          "data": {
            "text/plain": [
              "<Axes: >"
            ]
          },
          "metadata": {},
          "execution_count": 48
        },
        {
          "output_type": "display_data",
          "data": {
            "text/plain": [
              "<Figure size 640x480 with 2 Axes>"
            ],
            "image/png": "[encoded data removed]"
          },
          "metadata": {}
        }
      ]
    }
  ]
}